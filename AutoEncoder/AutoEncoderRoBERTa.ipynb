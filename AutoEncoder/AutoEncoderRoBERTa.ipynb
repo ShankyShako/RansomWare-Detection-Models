{
  "cells": [
    {
      "cell_type": "code",
      "execution_count": null,
      "metadata": {
        "colab": {
          "base_uri": "https://localhost:8080/"
        },
        "id": "YPIPSWHg4Kh7",
        "outputId": "b65f1835-d09d-4a22-b4b2-b9ed17e9b2ba"
      },
      "outputs": [
        {
          "name": "stdout",
          "output_type": "stream",
          "text": [
            "\u001b[33mWARNING: Ignoring invalid distribution -yarrow (/usr/local/lib/python3.10/dist-packages)\u001b[0m\u001b[33m\n",
            "\u001b[0mRequirement already satisfied: transformers in /usr/local/lib/python3.10/dist-packages (4.42.4)\n",
            "Requirement already satisfied: torch in /usr/local/lib/python3.10/dist-packages (2.3.1+cu121)\n",
            "Collecting sklearn\n",
            "  Using cached sklearn-0.0.post12.tar.gz (2.6 kB)\n",
            "  \u001b[1;31merror\u001b[0m: \u001b[1msubprocess-exited-with-error\u001b[0m\n",
            "  \n",
            "  \u001b[31m×\u001b[0m \u001b[32mpython setup.py egg_info\u001b[0m did not run successfully.\n",
            "  \u001b[31m│\u001b[0m exit code: \u001b[1;36m1\u001b[0m\n",
            "  \u001b[31m╰─>\u001b[0m See above for output.\n",
            "  \n",
            "  \u001b[1;35mnote\u001b[0m: This error originates from a subprocess, and is likely not a problem with pip.\n",
            "  Preparing metadata (setup.py) ... \u001b[?25l\u001b[?25herror\n",
            "\u001b[1;31merror\u001b[0m: \u001b[1mmetadata-generation-failed\u001b[0m\n",
            "\n",
            "\u001b[31m×\u001b[0m Encountered error while generating package metadata.\n",
            "\u001b[31m╰─>\u001b[0m See above for output.\n",
            "\n",
            "\u001b[1;35mnote\u001b[0m: This is an issue with the package mentioned above, not pip.\n",
            "\u001b[1;36mhint\u001b[0m: See above for details.\n"
          ]
        }
      ],
      "source": [
        "pip install transformers torch sklearn\n"
      ]
    },
    {
      "cell_type": "code",
      "execution_count": null,
      "metadata": {
        "colab": {
          "base_uri": "https://localhost:8080/"
        },
        "id": "vMkDIa8wLbs0",
        "outputId": "37965574-6a20-43f8-fbda-801039947669"
      },
      "outputs": [
        {
          "name": "stdout",
          "output_type": "stream",
          "text": [
            "\u001b[33mWARNING: Ignoring invalid distribution -yarrow (/usr/local/lib/python3.10/dist-packages)\u001b[0m\u001b[33m\n",
            "\u001b[0mRequirement already satisfied: datasets in /usr/local/lib/python3.10/dist-packages (2.20.0)\n",
            "Requirement already satisfied: filelock in /usr/local/lib/python3.10/dist-packages (from datasets) (3.15.4)\n",
            "Requirement already satisfied: numpy>=1.17 in /usr/local/lib/python3.10/dist-packages (from datasets) (1.26.4)\n",
            "Requirement already satisfied: pyarrow>=15.0.0 in /usr/local/lib/python3.10/dist-packages (from datasets) (17.0.0)\n",
            "Requirement already satisfied: pyarrow-hotfix in /usr/local/lib/python3.10/dist-packages (from datasets) (0.6)\n",
            "Requirement already satisfied: dill<0.3.9,>=0.3.0 in /usr/local/lib/python3.10/dist-packages (from datasets) (0.3.8)\n",
            "Requirement already satisfied: pandas in /usr/local/lib/python3.10/dist-packages (from datasets) (2.1.4)\n",
            "Requirement already satisfied: requests>=2.32.2 in /usr/local/lib/python3.10/dist-packages (from datasets) (2.32.3)\n",
            "Requirement already satisfied: tqdm>=4.66.3 in /usr/local/lib/python3.10/dist-packages (from datasets) (4.66.4)\n",
            "Requirement already satisfied: xxhash in /usr/local/lib/python3.10/dist-packages (from datasets) (3.4.1)\n",
            "Requirement already satisfied: multiprocess in /usr/local/lib/python3.10/dist-packages (from datasets) (0.70.16)\n",
            "Requirement already satisfied: fsspec<=2024.5.0,>=2023.1.0 in /usr/local/lib/python3.10/dist-packages (from fsspec[http]<=2024.5.0,>=2023.1.0->datasets) (2024.5.0)\n",
            "Requirement already satisfied: aiohttp in /usr/local/lib/python3.10/dist-packages (from datasets) (3.9.5)\n",
            "Requirement already satisfied: huggingface-hub>=0.21.2 in /usr/local/lib/python3.10/dist-packages (from datasets) (0.23.5)\n",
            "Requirement already satisfied: packaging in /usr/local/lib/python3.10/dist-packages (from datasets) (24.1)\n",
            "Requirement already satisfied: pyyaml>=5.1 in /usr/local/lib/python3.10/dist-packages (from datasets) (6.0.1)\n",
            "Requirement already satisfied: aiosignal>=1.1.2 in /usr/local/lib/python3.10/dist-packages (from aiohttp->datasets) (1.3.1)\n",
            "Requirement already satisfied: attrs>=17.3.0 in /usr/local/lib/python3.10/dist-packages (from aiohttp->datasets) (23.2.0)\n",
            "Requirement already satisfied: frozenlist>=1.1.1 in /usr/local/lib/python3.10/dist-packages (from aiohttp->datasets) (1.4.1)\n",
            "Requirement already satisfied: multidict<7.0,>=4.5 in /usr/local/lib/python3.10/dist-packages (from aiohttp->datasets) (6.0.5)\n",
            "Requirement already satisfied: yarl<2.0,>=1.0 in /usr/local/lib/python3.10/dist-packages (from aiohttp->datasets) (1.9.4)\n",
            "Requirement already satisfied: async-timeout<5.0,>=4.0 in /usr/local/lib/python3.10/dist-packages (from aiohttp->datasets) (4.0.3)\n",
            "Requirement already satisfied: typing-extensions>=3.7.4.3 in /usr/local/lib/python3.10/dist-packages (from huggingface-hub>=0.21.2->datasets) (4.12.2)\n",
            "Requirement already satisfied: charset-normalizer<4,>=2 in /usr/local/lib/python3.10/dist-packages (from requests>=2.32.2->datasets) (3.3.2)\n",
            "Requirement already satisfied: idna<4,>=2.5 in /usr/local/lib/python3.10/dist-packages (from requests>=2.32.2->datasets) (3.7)\n",
            "Requirement already satisfied: urllib3<3,>=1.21.1 in /usr/local/lib/python3.10/dist-packages (from requests>=2.32.2->datasets) (2.0.7)\n",
            "Requirement already satisfied: certifi>=2017.4.17 in /usr/local/lib/python3.10/dist-packages (from requests>=2.32.2->datasets) (2024.7.4)\n",
            "Requirement already satisfied: python-dateutil>=2.8.2 in /usr/local/lib/python3.10/dist-packages (from pandas->datasets) (2.8.2)\n",
            "Requirement already satisfied: pytz>=2020.1 in /usr/local/lib/python3.10/dist-packages (from pandas->datasets) (2024.1)\n",
            "Requirement already satisfied: tzdata>=2022.1 in /usr/local/lib/python3.10/dist-packages (from pandas->datasets) (2024.1)\n",
            "Requirement already satisfied: six>=1.5 in /usr/local/lib/python3.10/dist-packages (from python-dateutil>=2.8.2->pandas->datasets) (1.16.0)\n",
            "\u001b[33mWARNING: Ignoring invalid distribution -yarrow (/usr/local/lib/python3.10/dist-packages)\u001b[0m\u001b[33m\n",
            "\u001b[0m"
          ]
        }
      ],
      "source": [
        "!pip install datasets\n"
      ]
    },
    {
      "cell_type": "code",
      "execution_count": null,
      "metadata": {
        "colab": {
          "base_uri": "https://localhost:8080/"
        },
        "id": "BAI6Jkfcbh8j",
        "outputId": "4b0585d6-10f9-4ce7-d079-11a31a30d00d"
      },
      "outputs": [
        {
          "name": "stdout",
          "output_type": "stream",
          "text": [
            "Drive already mounted at /content/drive/; to attempt to forcibly remount, call drive.mount(\"/content/drive/\", force_remount=True).\n"
          ]
        }
      ],
      "source": [
        "from google.colab import drive\n",
        "drive.mount('/content/drive/')\n",
        "\n",
        "import torch\n",
        "from torch.utils.data import Dataset, DataLoader, random_split\n",
        "import pandas as pd\n",
        "from sklearn.preprocessing import StandardScaler\n",
        "import numpy as np\n",
        "\n",
        "# Splits data into test and train data\n",
        "def DataSplitter(data_loader):\n",
        "    train_size = int(0.7 * len(data_loader))\n",
        "    test_size = len(data_loader) - train_size\n",
        "    train_dataset, test_dataset = random_split(data_loader, [train_size, test_size])\n",
        "\n",
        "    print(\"Train size: \" + str(len(train_dataset)))\n",
        "    print(\"Test size: \" + str(len(test_dataset)))\n",
        "    print(\"[+] Training/Testing Set Split\")\n",
        "\n",
        "    train_dataloader = DataLoader(train_dataset, batch_size=32, shuffle=True)\n",
        "    test_dataloader = DataLoader(test_dataset, batch_size=32, shuffle=True)\n",
        "    return train_dataloader, test_dataloader, test_dataset\n",
        "\n",
        "# Define the function to convert specific labels to group labels\n",
        "def convert_to_group(label):\n",
        "    if 1 <= label <= 3:\n",
        "        return 1\n",
        "    elif 4 <= label <= 6:\n",
        "        return 2\n",
        "    elif 7 <= label <= 9:\n",
        "        return 3\n",
        "    elif 10 <= label <= 12:\n",
        "        return 4\n",
        "    else:\n",
        "        return 0  # Assuming 0 is for goodware\n",
        "\n",
        "# Custom dataset class\n",
        "class CustomDataset(Dataset):\n",
        "    def __init__(self, csv_file, latent_vectors=None):\n",
        "        self.data = pd.read_csv(csv_file)\n",
        "\n",
        "        # Prepare feature matrix\n",
        "\n",
        "        # Prepare feature matrix X\n",
        "        self.X = self.data.drop([self.data.columns[0], self.data.columns[1], self.data.columns[2]], axis=1).values\n",
        "        self.latent_vectors = latent_vectors\n",
        "\n",
        "        # Prepare binary labels\n",
        "        self.y_binary = self.data[self.data.columns[1]].values\n",
        "\n",
        "        # Prepare specific labels\n",
        "        self.y_specific = self.data[self.data.columns[2]].values\n",
        "\n",
        "        # Prepare group labels\n",
        "        self.y_group = self.data[self.data.columns[2]].apply(convert_to_group).values\n",
        "\n",
        "    def __len__(self):\n",
        "        return len(self.data)\n",
        "\n",
        "    def __getitem__(self, idx):\n",
        "        # Concatenate original features with the latent vector\n",
        "        inputs_with_latent = torch.cat((\n",
        "            torch.tensor(self.X[idx], dtype=torch.float32),\n",
        "            torch.tensor(self.latent_vectors[idx], dtype=torch.float32)\n",
        "        ), dim=0)\n",
        "\n",
        "        binary_label = torch.tensor(self.y_binary[idx], dtype=torch.float32)\n",
        "        group_label = torch.tensor(self.y_group[idx], dtype=torch.long)\n",
        "        specific_label = torch.tensor(self.y_specific[idx], dtype=torch.long)\n",
        "\n",
        "        return inputs_with_latent, binary_label, group_label, specific_label\n",
        "\n",
        "\n"
      ]
    },
    {
      "cell_type": "code",
      "execution_count": null,
      "metadata": {
        "colab": {
          "base_uri": "https://localhost:8080/"
        },
        "id": "LWN93US0c2Gd",
        "outputId": "406fe354-9985-4c9d-d655-8fbdd851254e"
      },
      "outputs": [
        {
          "name": "stdout",
          "output_type": "stream",
          "text": [
            "Drive already mounted at /content/drive/; to attempt to forcibly remount, call drive.mount(\"/content/drive/\", force_remount=True).\n",
            "Epoch 1/50, Loss: 0.0274\n",
            "Epoch 2/50, Loss: 0.0037\n",
            "Epoch 3/50, Loss: 0.0037\n",
            "Epoch 4/50, Loss: 0.0038\n",
            "Epoch 5/50, Loss: 0.0038\n",
            "Epoch 6/50, Loss: 0.0038\n",
            "Epoch 7/50, Loss: 0.0038\n",
            "Epoch 8/50, Loss: 0.0038\n",
            "Epoch 9/50, Loss: 0.0038\n",
            "Epoch 10/50, Loss: 0.0038\n",
            "Epoch 11/50, Loss: 0.0037\n",
            "Epoch 12/50, Loss: 0.0037\n",
            "Epoch 13/50, Loss: 0.0038\n",
            "Epoch 14/50, Loss: 0.0038\n",
            "Epoch 15/50, Loss: 0.0038\n",
            "Epoch 16/50, Loss: 0.0038\n",
            "Epoch 17/50, Loss: 0.0038\n",
            "Epoch 18/50, Loss: 0.0038\n",
            "Epoch 19/50, Loss: 0.0038\n",
            "Epoch 20/50, Loss: 0.0038\n",
            "Epoch 21/50, Loss: 0.0038\n",
            "Epoch 22/50, Loss: 0.0038\n",
            "Epoch 23/50, Loss: 0.0038\n",
            "Epoch 24/50, Loss: 0.0038\n",
            "Epoch 25/50, Loss: 0.0048\n",
            "Epoch 26/50, Loss: 0.0051\n",
            "Epoch 27/50, Loss: 0.0052\n",
            "Epoch 28/50, Loss: 0.0054\n",
            "Epoch 29/50, Loss: 0.0054\n",
            "Epoch 30/50, Loss: 0.0054\n",
            "Epoch 31/50, Loss: 0.0054\n",
            "Epoch 32/50, Loss: 0.0054\n",
            "Epoch 33/50, Loss: 0.0052\n",
            "Epoch 34/50, Loss: 0.0051\n",
            "Epoch 35/50, Loss: 0.0051\n",
            "Epoch 36/50, Loss: 0.0050\n",
            "Epoch 37/50, Loss: 0.0050\n",
            "Epoch 38/50, Loss: 0.0049\n",
            "Epoch 39/50, Loss: 0.0048\n",
            "Epoch 40/50, Loss: 0.0048\n",
            "Epoch 41/50, Loss: 0.0047\n",
            "Epoch 42/50, Loss: 0.0047\n",
            "Epoch 43/50, Loss: 0.0047\n",
            "Epoch 44/50, Loss: 0.0047\n",
            "Epoch 45/50, Loss: 0.0046\n",
            "Epoch 46/50, Loss: 0.0046\n",
            "Epoch 47/50, Loss: 0.0045\n",
            "Epoch 48/50, Loss: 0.0045\n",
            "Epoch 49/50, Loss: 0.0045\n",
            "Epoch 50/50, Loss: 0.0045\n",
            "Train size: 1066\n",
            "Test size: 457\n",
            "[+] Training/Testing Set Split\n",
            "Inputs with latent: torch.Size([32, 31095])\n",
            "Binary Labels: torch.Size([32])\n",
            "Group Labels: torch.Size([32])\n",
            "Specific Labels: torch.Size([32])\n"
          ]
        }
      ],
      "source": [
        "from google.colab import drive\n",
        "drive.mount('/content/drive/')\n",
        "\n",
        "import torch\n",
        "from torch.utils.data import Dataset, DataLoader, random_split\n",
        "import pandas as pd\n",
        "from sklearn.preprocessing import StandardScaler\n",
        "import numpy as np\n",
        "\n",
        "# Splits data into test and train data\n",
        "def DataSplitter(data_loader):\n",
        "    train_size = int(0.7 * len(data_loader))\n",
        "    test_size = len(data_loader) - train_size\n",
        "    train_dataset, test_dataset = random_split(data_loader, [train_size, test_size])\n",
        "\n",
        "    print(\"Train size: \" + str(len(train_dataset)))\n",
        "    print(\"Test size: \" + str(len(test_dataset)))\n",
        "    print(\"[+] Training/Testing Set Split\")\n",
        "\n",
        "    train_dataloader = DataLoader(train_dataset, batch_size=32, shuffle=True)\n",
        "    test_dataloader = DataLoader(test_dataset, batch_size=32, shuffle=True)\n",
        "    return train_dataloader, test_dataloader, test_dataset\n",
        "\n",
        "# Define the function to convert specific labels to group labels\n",
        "def convert_to_group(label):\n",
        "    if 1 <= label <= 3:\n",
        "        return 1\n",
        "    elif 4 <= label <= 6:\n",
        "        return 2\n",
        "    elif 7 <= label <= 9:\n",
        "        return 3\n",
        "    elif 10 <= label <= 12:\n",
        "        return 4\n",
        "    else:\n",
        "        return 0  # Assuming 0 is for goodware\n",
        "\n",
        "# Custom dataset class\n",
        "class CustomDataset(Dataset):\n",
        "    def __init__(self, csv_file, latent_vectors=None):\n",
        "        self.data = pd.read_csv(csv_file)\n",
        "\n",
        "        # Prepare feature matrix X\n",
        "        self.X = self.data.drop([self.data.columns[0], self.data.columns[1], self.data.columns[2]], axis=1).values\n",
        "        self.latent_vectors = latent_vectors\n",
        "\n",
        "        # Prepare binary labels\n",
        "        self.y_binary = self.data[self.data.columns[1]].values\n",
        "\n",
        "        # Prepare specific labels\n",
        "        self.y_specific = self.data[self.data.columns[2]].values\n",
        "\n",
        "        # Prepare group labels\n",
        "        self.y_group = self.data[self.data.columns[2]].apply(convert_to_group).values\n",
        "\n",
        "    def __len__(self):\n",
        "        return len(self.data)\n",
        "\n",
        "    def __getitem__(self, idx):\n",
        "        inputs = torch.tensor(self.X[idx], dtype=torch.float32)\n",
        "\n",
        "        # Concatenate original features with the latent vector if provided\n",
        "        if self.latent_vectors is not None:\n",
        "            latent = torch.tensor(self.latent_vectors[idx], dtype=torch.float32)\n",
        "            inputs_with_latent = torch.cat((inputs, latent), dim=0)\n",
        "        else:\n",
        "            inputs_with_latent = inputs\n",
        "\n",
        "        binary_label = torch.tensor(self.y_binary[idx], dtype=torch.float32)\n",
        "        group_label = torch.tensor(self.y_group[idx], dtype=torch.long)\n",
        "        specific_label = torch.tensor(self.y_specific[idx], dtype=torch.long)\n",
        "\n",
        "        return inputs_with_latent, binary_label, group_label, specific_label\n",
        "\n",
        "import torch.nn as nn\n",
        "import torch.optim as optim\n",
        "\n",
        "class Autoencoder(nn.Module):\n",
        "    def __init__(self, input_dim, latent_dim):\n",
        "        super(Autoencoder, self).__init__()\n",
        "        # Encoder\n",
        "        self.encoder = nn.Sequential(\n",
        "            nn.Linear(input_dim, 1024),\n",
        "            nn.ReLU(),\n",
        "            nn.Linear(1024, 512),\n",
        "            nn.ReLU(),\n",
        "            nn.Linear(512, latent_dim)\n",
        "        )\n",
        "        # Decoder\n",
        "        self.decoder = nn.Sequential(\n",
        "            nn.Linear(latent_dim, 512),\n",
        "            nn.ReLU(),\n",
        "            nn.Linear(512, 1024),\n",
        "            nn.ReLU(),\n",
        "            nn.Linear(1024, input_dim),\n",
        "            nn.Sigmoid()  # Use Sigmoid for normalized output in [0, 1]\n",
        "        )\n",
        "\n",
        "    def forward(self, x):\n",
        "        latent = self.encoder(x)\n",
        "        reconstructed = self.decoder(latent)\n",
        "        return latent, reconstructed\n",
        "\n",
        "# Hyperparameters\n",
        "input_dim = 30967  # Number of original features\n",
        "latent_dim = 128   # Size of the latent vector\n",
        "batch_size = 32\n",
        "num_epochs = 50\n",
        "learning_rate = 1e-3\n",
        "\n",
        "# Define the device\n",
        "device = torch.device(\"cuda\" if torch.cuda.is_available() else \"cpu\")\n",
        "\n",
        "# Load dataset from disk\n",
        "csv_file = '/content/drive/MyDrive/RansomwareData.csv'\n",
        "raw_dataset = CustomDataset(csv_file)\n",
        "\n",
        "# DataLoader for the raw dataset\n",
        "raw_data_loader = DataLoader(raw_dataset, batch_size=batch_size, shuffle=True)\n",
        "\n",
        "# Initialize the autoencoder\n",
        "autoencoder = Autoencoder(input_dim, latent_dim)\n",
        "autoencoder.to(device)\n",
        "\n",
        "# Loss function and optimizer\n",
        "criterion = nn.MSELoss()\n",
        "optimizer = optim.Adam(autoencoder.parameters(), lr=learning_rate)\n",
        "\n",
        "# Training loop\n",
        "for epoch in range(num_epochs):\n",
        "    autoencoder.train()\n",
        "    running_loss = 0.0\n",
        "    for batch in raw_data_loader:\n",
        "        inputs, _, _, _ = batch\n",
        "        inputs = inputs.to(device)\n",
        "\n",
        "        # Forward pass\n",
        "        latent, outputs = autoencoder(inputs)\n",
        "        loss = criterion(outputs, inputs)\n",
        "\n",
        "        # Backward pass and optimization\n",
        "        optimizer.zero_grad()\n",
        "        loss.backward()\n",
        "        optimizer.step()\n",
        "\n",
        "        running_loss += loss.item() * inputs.size(0)\n",
        "\n",
        "    epoch_loss = running_loss / len(raw_data_loader.dataset)\n",
        "    print(f'Epoch {epoch+1}/{num_epochs}, Loss: {epoch_loss:.4f}')\n",
        "\n",
        "# Extract latent vectors for the entire dataset after training\n",
        "autoencoder.eval()\n",
        "latent_vectors = []\n",
        "with torch.no_grad():\n",
        "    for batch in DataLoader(raw_dataset, batch_size=batch_size, shuffle=False):\n",
        "        inputs, _, _, _ = batch\n",
        "        inputs = inputs.to(device)\n",
        "        latent, _ = autoencoder(inputs)\n",
        "        latent_vectors.append(latent.cpu().numpy())\n",
        "latent_vectors = np.concatenate(latent_vectors, axis=0)\n",
        "\n",
        "# Create a new dataset with latent vectors\n",
        "dataset_with_latent = CustomDataset(csv_file, latent_vectors=latent_vectors)\n",
        "\n",
        "# Create DataLoader for the dataset with latent vectors\n",
        "train_loader, test_loader, test_dataset = DataSplitter(dataset_with_latent)\n",
        "\n",
        "# Test DataLoader\n",
        "for batch in train_loader:\n",
        "    inputs_with_latent, binary_labels, group_labels, specific_labels = batch\n",
        "    print(\"Inputs with latent:\", inputs_with_latent.shape)\n",
        "    print(\"Binary Labels:\", binary_labels.shape)\n",
        "    print(\"Group Labels:\", group_labels.shape)\n",
        "    print(\"Specific Labels:\", specific_labels.shape)\n",
        "    break\n"
      ]
    },
    {
      "cell_type": "code",
      "execution_count": null,
      "metadata": {
        "colab": {
          "base_uri": "https://localhost:8080/"
        },
        "id": "HOJPl3cKEqob",
        "outputId": "eded609a-b956-487b-e9be-4479df75257b"
      },
      "outputs": [
        {
          "name": "stdout",
          "output_type": "stream",
          "text": [
            "Binary output shape: torch.Size([8, 1])\n",
            "Specific output shape: torch.Size([8, 12])\n"
          ]
        }
      ],
      "source": [
        "import torch\n",
        "import torch.nn as nn\n",
        "import torch.nn.functional as F\n",
        "from transformers import RobertaConfig, RobertaModel\n",
        "\n",
        "class BinaryFeatureEmbedding(nn.Module):\n",
        "    def __init__(self, num_features, embed_dim):\n",
        "        super(BinaryFeatureEmbedding, self).__init__()\n",
        "        self.linear = nn.Linear(num_features, embed_dim)\n",
        "\n",
        "    def forward(self, x):\n",
        "        return self.linear(x)\n",
        "\n",
        "class CustomRoBERTaModel(nn.Module):\n",
        "    def __init__(self, num_features, embed_dim, num_groups, num_specific):\n",
        "        super(CustomRoBERTaModel, self).__init__()\n",
        "\n",
        "        self.embedding = BinaryFeatureEmbedding(num_features, embed_dim)\n",
        "\n",
        "        config = RobertaConfig(\n",
        "            hidden_size=embed_dim,\n",
        "            num_hidden_layers=12,\n",
        "            num_attention_heads=12,\n",
        "            intermediate_size=3072,\n",
        "            max_position_embeddings=num_features,\n",
        "            type_vocab_size=2,\n",
        "            initializer_range=0.02,\n",
        "            layer_norm_eps=1e-12\n",
        "        )\n",
        "\n",
        "        self.roberta = RobertaModel(config)\n",
        "        self.dropout = nn.Dropout(p=0.5)  # Add dropout with probability 0.5\n",
        "\n",
        "        self.binary_output = nn.Linear(embed_dim, 1)\n",
        "        self.specific_output = nn.Linear(embed_dim, num_specific)\n",
        "\n",
        "    def forward(self, x):\n",
        "        x = self.embedding(x)\n",
        "        x = x.unsqueeze(1)\n",
        "        outputs = self.roberta(inputs_embeds=x)\n",
        "        cls_output = outputs.last_hidden_state[:, 0, :]\n",
        "        cls_output = self.dropout(cls_output)  # Apply dropout to the output\n",
        "\n",
        "        binary_logits = self.binary_output(cls_output)\n",
        "        binary_probs = torch.sigmoid(binary_logits)\n",
        "\n",
        "        specific_logits = self.specific_output(cls_output)\n",
        "        specific_probs = torch.softmax(specific_logits, dim=-1)\n",
        "\n",
        "        return binary_probs, specific_probs\n",
        "\n",
        "# Sample usage\n",
        "num_features = 31095\n",
        "embed_dim = 768\n",
        "num_groups = 5  # Adjusted based on earlier grouping structure\n",
        "num_specific = 12\n",
        "\n",
        "model = CustomRoBERTaModel(num_features, embed_dim, num_groups, num_specific)\n",
        "sample_input = torch.randint(0, 2, (8, num_features)).float()  # batch_size=8, num_features=30964\n",
        "binary_output, specific_output = model(sample_input)\n",
        "device = torch.device(\"cuda\" if torch.cuda.is_available() else \"cpu\")\n",
        "model.to(device)\n",
        "\n",
        "print(\"Binary output shape:\", binary_output.shape)\n",
        "print(\"Specific output shape:\", specific_output.shape)\n"
      ]
    },
    {
      "cell_type": "code",
      "execution_count": null,
      "metadata": {
        "id": "7lZ4uBo0AK2F"
      },
      "outputs": [],
      "source": [
        "from sklearn.metrics import accuracy_score, precision_score, recall_score, f1_score\n",
        "\n",
        "def evaluate(model, data_loader, device):\n",
        "    model.eval()\n",
        "    binary_true = []\n",
        "    binary_pred = []\n",
        "    group_true = []\n",
        "    group_pred = []\n",
        "    specific_true = []\n",
        "    specific_pred = []\n",
        "\n",
        "    with torch.no_grad():\n",
        "        for batch in data_loader:\n",
        "            inputs, binary_labels, group_labels, specific_labels = batch\n",
        "            inputs = inputs.to(device)\n",
        "            binary_labels = binary_labels.to(device)\n",
        "            group_labels = group_labels.to(device)\n",
        "            specific_labels = specific_labels.to(device)\n",
        "            binary_probs, specific_probs = model(inputs)\n",
        "            binary_preds = (binary_probs > 0.5).float()\n",
        "            specific_preds = torch.argmax(specific_probs, dim=1)\n",
        "            binary_true.extend(binary_labels.cpu().numpy())\n",
        "            binary_pred.extend(binary_preds.cpu().numpy())\n",
        "            specific_true.extend(specific_labels.cpu().numpy())\n",
        "            specific_pred.extend(specific_preds.cpu().numpy())\n",
        "\n",
        "    # Binary classification metrics\n",
        "    binary_accuracy = accuracy_score(binary_true, binary_pred)\n",
        "    binary_precision = precision_score(binary_true, binary_pred)\n",
        "    binary_recall = recall_score(binary_true, binary_pred)\n",
        "    binary_f1 = f1_score(binary_true, binary_pred)\n",
        "\n",
        "    # Specific classification metrics\n",
        "    specific_accuracy = accuracy_score(specific_true, specific_pred)\n",
        "    specific_precision = precision_score(specific_true, specific_pred, average='weighted')\n",
        "    specific_recall = recall_score(specific_true, specific_pred, average='weighted')\n",
        "    specific_f1 = f1_score(specific_true, specific_pred, average='weighted')\n",
        "\n",
        "    metrics = {\n",
        "        \"binary_accuracy\": binary_accuracy,\n",
        "        \"binary_precision\": binary_precision,\n",
        "        \"binary_recall\": binary_recall,\n",
        "        \"binary_f1\": binary_f1,\n",
        "        \"specific_accuracy\": specific_accuracy,\n",
        "        \"specific_precision\": specific_precision,\n",
        "        \"specific_recall\": specific_recall,\n",
        "        \"specific_f1\": specific_f1,\n",
        "    }\n",
        "\n",
        "    return metrics\n"
      ]
    },
    {
      "cell_type": "code",
      "execution_count": null,
      "metadata": {
        "id": "LsTTJJs3p2LE"
      },
      "outputs": [],
      "source": [
        "#PLOT\n",
        "\n",
        "binary_acc = []\n",
        "val_binary_acc = []\n",
        "group_acc = []\n",
        "val_group_acc = []\n",
        "specific_acc = []\n",
        "val_specific_acc = []"
      ]
    },
    {
      "cell_type": "code",
      "execution_count": null,
      "metadata": {
        "colab": {
          "background_save": true,
          "base_uri": "https://localhost:8080/"
        },
        "id": "B9LvXKW5bKjm",
        "outputId": "f4014458-6d25-40ec-c040-ddfb788bd718"
      },
      "outputs": [
        {
          "name": "stderr",
          "output_type": "stream",
          "text": [
            "/usr/local/lib/python3.10/dist-packages/sklearn/metrics/_classification.py:1471: UndefinedMetricWarning: Precision is ill-defined and being set to 0.0 due to no predicted samples. Use `zero_division` parameter to control this behavior.\n",
            "  _warn_prf(average, modifier, msg_start, len(result))\n",
            "/usr/local/lib/python3.10/dist-packages/sklearn/metrics/_classification.py:1471: UndefinedMetricWarning: Precision is ill-defined and being set to 0.0 in labels with no predicted samples. Use `zero_division` parameter to control this behavior.\n",
            "  _warn_prf(average, modifier, msg_start, len(result))\n",
            "/usr/local/lib/python3.10/dist-packages/sklearn/metrics/_classification.py:1471: UndefinedMetricWarning: Precision is ill-defined and being set to 0.0 due to no predicted samples. Use `zero_division` parameter to control this behavior.\n",
            "  _warn_prf(average, modifier, msg_start, len(result))\n",
            "/usr/local/lib/python3.10/dist-packages/sklearn/metrics/_classification.py:1471: UndefinedMetricWarning: Precision is ill-defined and being set to 0.0 in labels with no predicted samples. Use `zero_division` parameter to control this behavior.\n",
            "  _warn_prf(average, modifier, msg_start, len(result))\n"
          ]
        },
        {
          "name": "stdout",
          "output_type": "stream",
          "text": [
            "********************************\n",
            "{'binary_accuracy': 0.6285178236397748, 'binary_precision': 0.0, 'binary_recall': 0.0, 'binary_f1': 0.0, 'specific_accuracy': 0.6285178236397748, 'specific_precision': 0.39503465463287907, 'specific_recall': 0.6285178236397748, 'specific_f1': 0.4851462463578907}\n",
            "{'binary_accuracy': 0.5951859956236324, 'binary_precision': 0.0, 'binary_recall': 0.0, 'binary_f1': 0.0, 'specific_accuracy': 0.5951859956236324, 'specific_precision': 0.35424636938649456, 'specific_recall': 0.5951859956236324, 'specific_f1': 0.4441442820565926}\n",
            "Epoch 1/20, Train Loss: 2.6966921301449047, Val Loss: 2.5839486383139842\n"
          ]
        },
        {
          "name": "stderr",
          "output_type": "stream",
          "text": [
            "/usr/local/lib/python3.10/dist-packages/sklearn/metrics/_classification.py:1471: UndefinedMetricWarning: Precision is ill-defined and being set to 0.0 due to no predicted samples. Use `zero_division` parameter to control this behavior.\n",
            "  _warn_prf(average, modifier, msg_start, len(result))\n",
            "/usr/local/lib/python3.10/dist-packages/sklearn/metrics/_classification.py:1471: UndefinedMetricWarning: Precision is ill-defined and being set to 0.0 in labels with no predicted samples. Use `zero_division` parameter to control this behavior.\n",
            "  _warn_prf(average, modifier, msg_start, len(result))\n",
            "/usr/local/lib/python3.10/dist-packages/sklearn/metrics/_classification.py:1471: UndefinedMetricWarning: Precision is ill-defined and being set to 0.0 due to no predicted samples. Use `zero_division` parameter to control this behavior.\n",
            "  _warn_prf(average, modifier, msg_start, len(result))\n",
            "/usr/local/lib/python3.10/dist-packages/sklearn/metrics/_classification.py:1471: UndefinedMetricWarning: Precision is ill-defined and being set to 0.0 in labels with no predicted samples. Use `zero_division` parameter to control this behavior.\n",
            "  _warn_prf(average, modifier, msg_start, len(result))\n"
          ]
        },
        {
          "name": "stdout",
          "output_type": "stream",
          "text": [
            "********************************\n",
            "{'binary_accuracy': 0.6285178236397748, 'binary_precision': 0.0, 'binary_recall': 0.0, 'binary_f1': 0.0, 'specific_accuracy': 0.6285178236397748, 'specific_precision': 0.39503465463287907, 'specific_recall': 0.6285178236397748, 'specific_f1': 0.4851462463578907}\n",
            "{'binary_accuracy': 0.5951859956236324, 'binary_precision': 0.0, 'binary_recall': 0.0, 'binary_f1': 0.0, 'specific_accuracy': 0.5951859956236324, 'specific_precision': 0.35424636938649456, 'specific_recall': 0.5951859956236324, 'specific_f1': 0.4441442820565926}\n",
            "Epoch 2/20, Train Loss: 2.6798003911972046, Val Loss: 2.5839486383139842\n"
          ]
        },
        {
          "name": "stderr",
          "output_type": "stream",
          "text": [
            "/usr/local/lib/python3.10/dist-packages/sklearn/metrics/_classification.py:1471: UndefinedMetricWarning: Precision is ill-defined and being set to 0.0 due to no predicted samples. Use `zero_division` parameter to control this behavior.\n",
            "  _warn_prf(average, modifier, msg_start, len(result))\n",
            "/usr/local/lib/python3.10/dist-packages/sklearn/metrics/_classification.py:1471: UndefinedMetricWarning: Precision is ill-defined and being set to 0.0 in labels with no predicted samples. Use `zero_division` parameter to control this behavior.\n",
            "  _warn_prf(average, modifier, msg_start, len(result))\n",
            "/usr/local/lib/python3.10/dist-packages/sklearn/metrics/_classification.py:1471: UndefinedMetricWarning: Precision is ill-defined and being set to 0.0 due to no predicted samples. Use `zero_division` parameter to control this behavior.\n",
            "  _warn_prf(average, modifier, msg_start, len(result))\n",
            "/usr/local/lib/python3.10/dist-packages/sklearn/metrics/_classification.py:1471: UndefinedMetricWarning: Precision is ill-defined and being set to 0.0 in labels with no predicted samples. Use `zero_division` parameter to control this behavior.\n",
            "  _warn_prf(average, modifier, msg_start, len(result))\n"
          ]
        },
        {
          "name": "stdout",
          "output_type": "stream",
          "text": [
            "********************************\n",
            "{'binary_accuracy': 0.6285178236397748, 'binary_precision': 0.0, 'binary_recall': 0.0, 'binary_f1': 0.0, 'specific_accuracy': 0.6285178236397748, 'specific_precision': 0.39503465463287907, 'specific_recall': 0.6285178236397748, 'specific_f1': 0.4851462463578907}\n",
            "{'binary_accuracy': 0.5951859956236324, 'binary_precision': 0.0, 'binary_recall': 0.0, 'binary_f1': 0.0, 'specific_accuracy': 0.5951859956236324, 'specific_precision': 0.35424636938649456, 'specific_recall': 0.5951859956236324, 'specific_f1': 0.4441442820565926}\n",
            "Epoch 3/20, Train Loss: 2.6693002266042374, Val Loss: 2.5839486383139842\n"
          ]
        },
        {
          "name": "stderr",
          "output_type": "stream",
          "text": [
            "/usr/local/lib/python3.10/dist-packages/sklearn/metrics/_classification.py:1471: UndefinedMetricWarning: Precision is ill-defined and being set to 0.0 due to no predicted samples. Use `zero_division` parameter to control this behavior.\n",
            "  _warn_prf(average, modifier, msg_start, len(result))\n",
            "/usr/local/lib/python3.10/dist-packages/sklearn/metrics/_classification.py:1471: UndefinedMetricWarning: Precision is ill-defined and being set to 0.0 in labels with no predicted samples. Use `zero_division` parameter to control this behavior.\n",
            "  _warn_prf(average, modifier, msg_start, len(result))\n",
            "/usr/local/lib/python3.10/dist-packages/sklearn/metrics/_classification.py:1471: UndefinedMetricWarning: Precision is ill-defined and being set to 0.0 due to no predicted samples. Use `zero_division` parameter to control this behavior.\n",
            "  _warn_prf(average, modifier, msg_start, len(result))\n",
            "/usr/local/lib/python3.10/dist-packages/sklearn/metrics/_classification.py:1471: UndefinedMetricWarning: Precision is ill-defined and being set to 0.0 in labels with no predicted samples. Use `zero_division` parameter to control this behavior.\n",
            "  _warn_prf(average, modifier, msg_start, len(result))\n"
          ]
        },
        {
          "name": "stdout",
          "output_type": "stream",
          "text": [
            "********************************\n",
            "{'binary_accuracy': 0.6285178236397748, 'binary_precision': 0.0, 'binary_recall': 0.0, 'binary_f1': 0.0, 'specific_accuracy': 0.6285178236397748, 'specific_precision': 0.39503465463287907, 'specific_recall': 0.6285178236397748, 'specific_f1': 0.4851462463578907}\n",
            "{'binary_accuracy': 0.5951859956236324, 'binary_precision': 0.0, 'binary_recall': 0.0, 'binary_f1': 0.0, 'specific_accuracy': 0.5951859956236324, 'specific_precision': 0.35424636938649456, 'specific_recall': 0.5951859956236324, 'specific_f1': 0.4441442820565926}\n",
            "Epoch 4/20, Train Loss: 2.6787531095392563, Val Loss: 2.5839486383139842\n"
          ]
        },
        {
          "name": "stderr",
          "output_type": "stream",
          "text": [
            "/usr/local/lib/python3.10/dist-packages/sklearn/metrics/_classification.py:1471: UndefinedMetricWarning: Precision is ill-defined and being set to 0.0 due to no predicted samples. Use `zero_division` parameter to control this behavior.\n",
            "  _warn_prf(average, modifier, msg_start, len(result))\n",
            "/usr/local/lib/python3.10/dist-packages/sklearn/metrics/_classification.py:1471: UndefinedMetricWarning: Precision is ill-defined and being set to 0.0 in labels with no predicted samples. Use `zero_division` parameter to control this behavior.\n",
            "  _warn_prf(average, modifier, msg_start, len(result))\n",
            "/usr/local/lib/python3.10/dist-packages/sklearn/metrics/_classification.py:1471: UndefinedMetricWarning: Precision is ill-defined and being set to 0.0 due to no predicted samples. Use `zero_division` parameter to control this behavior.\n",
            "  _warn_prf(average, modifier, msg_start, len(result))\n",
            "/usr/local/lib/python3.10/dist-packages/sklearn/metrics/_classification.py:1471: UndefinedMetricWarning: Precision is ill-defined and being set to 0.0 in labels with no predicted samples. Use `zero_division` parameter to control this behavior.\n",
            "  _warn_prf(average, modifier, msg_start, len(result))\n"
          ]
        },
        {
          "name": "stdout",
          "output_type": "stream",
          "text": [
            "********************************\n",
            "{'binary_accuracy': 0.6285178236397748, 'binary_precision': 0.0, 'binary_recall': 0.0, 'binary_f1': 0.0, 'specific_accuracy': 0.6285178236397748, 'specific_precision': 0.39503465463287907, 'specific_recall': 0.6285178236397748, 'specific_f1': 0.4851462463578907}\n",
            "{'binary_accuracy': 0.5951859956236324, 'binary_precision': 0.0, 'binary_recall': 0.0, 'binary_f1': 0.0, 'specific_accuracy': 0.5951859956236324, 'specific_precision': 0.35424636938649456, 'specific_recall': 0.5951859956236324, 'specific_f1': 0.4441442820565926}\n",
            "Epoch 5/20, Train Loss: 2.685208692270167, Val Loss: 2.5839486383139842\n"
          ]
        },
        {
          "name": "stderr",
          "output_type": "stream",
          "text": [
            "/usr/local/lib/python3.10/dist-packages/sklearn/metrics/_classification.py:1471: UndefinedMetricWarning: Precision is ill-defined and being set to 0.0 due to no predicted samples. Use `zero_division` parameter to control this behavior.\n",
            "  _warn_prf(average, modifier, msg_start, len(result))\n",
            "/usr/local/lib/python3.10/dist-packages/sklearn/metrics/_classification.py:1471: UndefinedMetricWarning: Precision is ill-defined and being set to 0.0 in labels with no predicted samples. Use `zero_division` parameter to control this behavior.\n",
            "  _warn_prf(average, modifier, msg_start, len(result))\n"
          ]
        },
        {
          "name": "stdout",
          "output_type": "stream",
          "text": [
            "********************************\n",
            "{'binary_accuracy': 0.6285178236397748, 'binary_precision': 0.0, 'binary_recall': 0.0, 'binary_f1': 0.0, 'specific_accuracy': 0.6285178236397748, 'specific_precision': 0.39503465463287907, 'specific_recall': 0.6285178236397748, 'specific_f1': 0.4851462463578907}\n",
            "{'binary_accuracy': 0.5951859956236324, 'binary_precision': 0.0, 'binary_recall': 0.0, 'binary_f1': 0.0, 'specific_accuracy': 0.5951859956236324, 'specific_precision': 0.35424636938649456, 'specific_recall': 0.5951859956236324, 'specific_f1': 0.4441442820565926}\n",
            "Epoch 6/20, Train Loss: 2.6823046417797314, Val Loss: 2.5839486383139842\n",
            "Early stopping triggered.\n"
          ]
        },
        {
          "name": "stderr",
          "output_type": "stream",
          "text": [
            "/usr/local/lib/python3.10/dist-packages/sklearn/metrics/_classification.py:1471: UndefinedMetricWarning: Precision is ill-defined and being set to 0.0 due to no predicted samples. Use `zero_division` parameter to control this behavior.\n",
            "  _warn_prf(average, modifier, msg_start, len(result))\n",
            "/usr/local/lib/python3.10/dist-packages/sklearn/metrics/_classification.py:1471: UndefinedMetricWarning: Precision is ill-defined and being set to 0.0 in labels with no predicted samples. Use `zero_division` parameter to control this behavior.\n",
            "  _warn_prf(average, modifier, msg_start, len(result))\n"
          ]
        }
      ],
      "source": [
        "import torch.optim as optim\n",
        "from torch.utils.tensorboard import SummaryWriter\n",
        "import os\n",
        "\n",
        "\n",
        "# Example usage\n",
        "binary_loss_fn = nn.BCELoss()\n",
        "specific_loss_fn = nn.CrossEntropyLoss()\n",
        "\n",
        "# Optimizer\n",
        "optimizer = optim.Adam(model.parameters(), lr=1e-4)\n",
        "\n",
        "writer = SummaryWriter(log_dir=os.path.join(\"runs\", \"exp1\"))\n",
        "\n",
        "best_val_loss = float('inf')\n",
        "early_stopping_patience = 5\n",
        "patience_counter = 0\n",
        "\n",
        "# Training loop\n",
        "num_epochs = 20\n",
        "for epoch in range(num_epochs):\n",
        "    model.train()\n",
        "    epoch_loss = 0.0\n",
        "    for batch in train_loader:\n",
        "        inputs, binary_labels, group_labels, specific_labels = batch\n",
        "        optimizer.zero_grad()\n",
        "\n",
        "        binary_probs, specific_probs = model(inputs)\n",
        "\n",
        "        binary_loss = binary_loss_fn(binary_probs, binary_labels.unsqueeze(1))\n",
        "        specific_loss = specific_loss_fn(specific_probs, specific_labels)\n",
        "\n",
        "        loss = binary_loss + specific_loss\n",
        "        loss.backward()\n",
        "        optimizer.step()\n",
        "\n",
        "        epoch_loss += loss.item()\n",
        "\n",
        "    # Log epoch loss\n",
        "    metrics = evaluate(model, train_loader, device)\n",
        "\n",
        "    val_metrics = evaluate(model, test_loader, device)\n",
        "\n",
        "    val_loss = sum(val_metrics.values())  # Sum of all validation metrics as a proxy for validation loss\n",
        "\n",
        "\n",
        "    binary_acc.append(metrics['binary_accuracy'])\n",
        "    val_binary_acc.append(val_metrics['binary_accuracy'])\n",
        "    specific_acc.append(metrics['specific_accuracy'])\n",
        "    val_specific_acc.append(val_metrics['specific_accuracy'])\n",
        "    # Logging\n",
        "    writer.add_scalar(\"Loss/train\", epoch_loss/len(train_loader), epoch)\n",
        "    writer.add_scalar(\"Loss/validation\", val_loss, epoch)\n",
        "    writer.add_scalar(\"Accuracy/Binary\", val_metrics['binary_accuracy'], epoch)\n",
        "    writer.add_scalar(\"Accuracy/Specific\", val_metrics['specific_accuracy'], epoch)\n",
        "    print(\"*\" * 32)\n",
        "    print(metrics)\n",
        "    print(val_metrics)\n",
        "    print(f\"Epoch {epoch+1}/{num_epochs}, Train Loss: {epoch_loss/len(train_loader)}, Val Loss: {val_loss}\")\n",
        "\n",
        "    # Early stopping\n",
        "    if val_loss < best_val_loss:\n",
        "        best_val_loss = val_loss\n",
        "        patience_counter = 0\n",
        "    else:\n",
        "        patience_counter += 1\n",
        "        if patience_counter >= early_stopping_patience:\n",
        "            print(\"Early stopping triggered.\")\n",
        "            break\n",
        "\n",
        "\n"
      ]
    },
    {
      "cell_type": "code",
      "execution_count": null,
      "metadata": {
        "colab": {
          "base_uri": "https://localhost:8080/"
        },
        "id": "xxPNgpI1sHCg",
        "outputId": "f71684a0-feed-41ee-dc20-ff127fc5d4b7"
      },
      "outputs": [
        {
          "name": "stdout",
          "output_type": "stream",
          "text": [
            "{'binary_accuracy': 0.5951859956236324, 'binary_precision': 0.0, 'binary_recall': 0.0, 'binary_f1': 0.0, 'specific_accuracy': 0.5951859956236324, 'specific_precision': 0.35424636938649456, 'specific_recall': 0.5951859956236324, 'specific_f1': 0.4441442820565926}\n"
          ]
        }
      ],
      "source": [
        "\n",
        "print(val_metrics)\n"
      ]
    },
    {
      "cell_type": "code",
      "execution_count": null,
      "metadata": {
        "colab": {
          "base_uri": "https://localhost:8080/",
          "height": 287
        },
        "id": "QeAOUKJfpwSn",
        "outputId": "24fab174-197b-461d-de56-ff6e053a6dde"
      },
      "outputs": [
        {
          "data": {
            "image/png": "[encoded data removed]",
            "text/plain": [
              "<Figure size 640x480 with 1 Axes>"
            ]
          },
          "metadata": {},
          "output_type": "display_data"
        }
      ],
      "source": [
        "import matplotlib.pyplot as plt\n",
        "# Plot loss\n",
        "# Plot accuracy\n",
        "plt.subplot(2, 1, 2)\n",
        "plt.plot(binary_acc, linestyle='--', label='Binary Output Accuracy')\n",
        "plt.plot(val_binary_acc, label='Val Binary Output Accuracy')\n",
        "plt.plot(group_acc, linestyle='--', label='Group Output Accuracy')\n",
        "plt.plot(val_group_acc, label='Val Group Output Accuracy')\n",
        "plt.plot(specific_acc, linestyle='--', label='Specific Output Accuracy')\n",
        "plt.plot(val_specific_acc, label='Val Specific Output Accuracy')\n",
        "plt.title('Training and Validation Accuracy')\n",
        "plt.xlabel('Epochs')\n",
        "plt.ylabel('Accuracy')\n",
        "plt.legend()\n",
        "\n",
        "plt.tight_layout()\n",
        "plt.show()\n"
      ]
    },
    {
      "cell_type": "code",
      "execution_count": null,
      "metadata": {
        "colab": {
          "base_uri": "https://localhost:8080/",
          "height": 936
        },
        "id": "gCwuO_QbcuT9",
        "outputId": "3265e03b-1fae-427b-9698-29cdce735901"
      },
      "outputs": [
        {
          "ename": "KeyError",
          "evalue": "'group_accuracy'",
          "output_type": "error",
          "traceback": [
            "\u001b[0;31m---------------------------------------------------------------------------\u001b[0m",
            "\u001b[0;31mKeyError\u001b[0m                                  Traceback (most recent call last)",
            "\u001b[0;32m<ipython-input-32-304333770977>\u001b[0m in \u001b[0;36m<cell line: 36>\u001b[0;34m()\u001b[0m\n\u001b[1;32m     34\u001b[0m     \u001b[0mplt\u001b[0m\u001b[0;34m.\u001b[0m\u001b[0mshow\u001b[0m\u001b[0;34m(\u001b[0m\u001b[0;34m)\u001b[0m\u001b[0;34m\u001b[0m\u001b[0;34m\u001b[0m\u001b[0m\n\u001b[1;32m     35\u001b[0m \u001b[0;34m\u001b[0m\u001b[0m\n\u001b[0;32m---> 36\u001b[0;31m \u001b[0mplot_metrics\u001b[0m\u001b[0;34m(\u001b[0m\u001b[0mmetrics\u001b[0m\u001b[0;34m)\u001b[0m\u001b[0;34m\u001b[0m\u001b[0;34m\u001b[0m\u001b[0m\n\u001b[0m",
            "\u001b[0;32m<ipython-input-32-304333770977>\u001b[0m in \u001b[0;36mplot_metrics\u001b[0;34m(metrics)\u001b[0m\n\u001b[1;32m     13\u001b[0m     \u001b[0;31m# Group Classification Metrics\u001b[0m\u001b[0;34m\u001b[0m\u001b[0;34m\u001b[0m\u001b[0m\n\u001b[1;32m     14\u001b[0m     axes[0, 1].bar(['Accuracy', 'Precision', 'Recall', 'F1'],\n\u001b[0;32m---> 15\u001b[0;31m                    [metrics['group_accuracy'], metrics['group_precision'], metrics['group_recall'], metrics['group_f1']])\n\u001b[0m\u001b[1;32m     16\u001b[0m     \u001b[0maxes\u001b[0m\u001b[0;34m[\u001b[0m\u001b[0;36m0\u001b[0m\u001b[0;34m,\u001b[0m \u001b[0;36m1\u001b[0m\u001b[0;34m]\u001b[0m\u001b[0;34m.\u001b[0m\u001b[0mset_title\u001b[0m\u001b[0;34m(\u001b[0m\u001b[0;34m'Group Classification'\u001b[0m\u001b[0;34m)\u001b[0m\u001b[0;34m\u001b[0m\u001b[0;34m\u001b[0m\u001b[0m\n\u001b[1;32m     17\u001b[0m \u001b[0;34m\u001b[0m\u001b[0m\n",
            "\u001b[0;31mKeyError\u001b[0m: 'group_accuracy'"
          ]
        },
        {
          "data": {
            "image/png": "[encoded data removed]",
            "text/plain": [
              "<Figure size 1500x1000 with 4 Axes>"
            ]
          },
          "metadata": {},
          "output_type": "display_data"
        }
      ],
      "source": [
        "import matplotlib.pyplot as plt\n",
        "\n",
        "# Plotting the metrics\n",
        "def plot_metrics(metrics):\n",
        "    fig, axes = plt.subplots(2, 2, figsize=(15, 10))\n",
        "    fig.suptitle('Model Evaluation Metrics')\n",
        "\n",
        "    # Binary Classification Metrics\n",
        "    axes[0, 0].bar(['Accuracy', 'Precision', 'Recall', 'F1'],\n",
        "                   [metrics['binary_accuracy'], metrics['binary_precision'], metrics['binary_recall'], metrics['binary_f1']])\n",
        "    axes[0, 0].set_title('Binary Classification')\n",
        "\n",
        "    # Group Classification Metrics\n",
        "    axes[0, 1].bar(['Accuracy', 'Precision', 'Recall', 'F1'],\n",
        "                   [metrics['group_accuracy'], metrics['group_precision'], metrics['group_recall'], metrics['group_f1']])\n",
        "    axes[0, 1].set_title('Group Classification')\n",
        "\n",
        "    # Specific Classification Metrics\n",
        "    axes[1, 0].bar(['Accuracy', 'Precision', 'Recall', 'F1'],\n",
        "                   [metrics['specific_accuracy'], metrics['specific_precision'], metrics['specific_recall'], metrics['specific_f1']])\n",
        "    axes[1, 0].set_title('Specific Classification')\n",
        "\n",
        "    # Overall Metrics\n",
        "    overall_accuracy = (metrics['binary_accuracy'] + metrics['group_accuracy'] + metrics['specific_accuracy']) / 3\n",
        "    overall_precision = (metrics['binary_precision'] + metrics['group_precision'] + metrics['specific_precision']) / 3\n",
        "    overall_recall = (metrics['binary_recall'] + metrics['group_recall'] + metrics['specific_recall']) / 3\n",
        "    overall_f1 = (metrics['binary_f1'] + metrics['group_f1'] + metrics['specific_f1']) / 3\n",
        "\n",
        "    axes[1, 1].bar(['Accuracy', 'Precision', 'Recall', 'F1'],\n",
        "                   [overall_accuracy, overall_precision, overall_recall, overall_f1])\n",
        "    axes[1, 1].set_title('Overall Metrics')\n",
        "\n",
        "    plt.tight_layout()\n",
        "    plt.show()\n",
        "\n",
        "plot_metrics(metrics)"
      ]
    }
  ],
  "metadata": {
    "colab": {
      "provenance": []
    },
    "kernelspec": {
      "display_name": "Python 3",
      "name": "python3"
    },
    "language_info": {
      "name": "python"
    }
  },
  "nbformat": 4,
  "nbformat_minor": 0
}