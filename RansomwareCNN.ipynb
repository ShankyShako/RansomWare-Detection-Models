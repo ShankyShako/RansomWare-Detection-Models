{
  "cells": [
    {
      "cell_type": "markdown",
      "metadata": {
        "id": "MLBbeirUqtHI"
      },
      "source": [
        "## **Decision Tree**"
      ]
    },
    {
      "cell_type": "code",
      "execution_count": null,
      "metadata": {
        "id": "zRx_4ksFgO0L"
      },
      "outputs": [],
      "source": [
        "#!pip install pandas"
      ]
    },
    {
      "cell_type": "markdown",
      "metadata": {
        "id": "-v3OGW-Vndoe"
      },
      "source": [
        "Reading the data"
      ]
    },
    {
      "cell_type": "code",
      "execution_count": null,
      "metadata": {
        "id": "OAy1LuQShBxb"
      },
      "outputs": [],
      "source": [
        "import pandas as pd\n",
        "\n",
        "# Reading the csv file\n",
        "df = pd.read_csv('RansomwareData.csv')\n",
        "\n",
        "# Display the first few rows of the dataframe\n"
      ]
    },
    {
      "cell_type": "code",
      "execution_count": null,
      "metadata": {
        "id": "V86mOryJc8zV"
      },
      "outputs": [],
      "source": [
        "from google.colab import drive\n",
        "drive.mount('/content/drive')"
      ]
    },
    {
      "cell_type": "code",
      "execution_count": null,
      "metadata": {
        "id": "JGo5iAtBhU9v"
      },
      "outputs": [],
      "source": []
    },
    {
      "cell_type": "markdown",
      "metadata": {
        "id": "fvb9LDnDni-f"
      },
      "source": [
        "Pre-process the data"
      ]
    },
    {
      "cell_type": "code",
      "execution_count": null,
      "metadata": {
        "colab": {
          "base_uri": "https://localhost:8080/"
        },
        "id": "UQri0_jIhWLt",
        "outputId": "558c1a33-d899-4e08-baaa-46473d8b6d3a"
      },
      "outputs": [
        {
          "name": "stdout",
          "output_type": "stream",
          "text": [
            "10001      0\n",
            "1          0\n",
            "2          0\n",
            "0          0\n",
            "0.1        0\n",
            "          ..\n",
            "0.30930    0\n",
            "0.30931    0\n",
            "0.30932    0\n",
            "0.30933    0\n",
            "0.30934    0\n",
            "Length: 30970, dtype: int64\n"
          ]
        }
      ],
      "source": [
        "print(df.isnull().sum())"
      ]
    },
    {
      "cell_type": "code",
      "execution_count": null,
      "metadata": {
        "id": "qC4VtOPGlIBp"
      },
      "outputs": [],
      "source": [
        "df"
      ]
    },
    {
      "cell_type": "code",
      "execution_count": null,
      "metadata": {
        "id": "J7TcvuoiuN6W"
      },
      "outputs": [],
      "source": [
        "from sklearn.preprocessing import MinMaxScaler\n",
        "\n",
        "scaler = MinMaxScaler()\n",
        "for column in ['Source IP Address', 'Destination IP Address', 'Timestamp', 'Source Port', 'Destination Port', 'Packet Length', 'Anomaly Scores', 'Payload Data']:\n",
        "    df[column] = scaler.fit_transform(df[[column]])"
      ]
    },
    {
      "cell_type": "code",
      "execution_count": null,
      "metadata": {
        "id": "ZOIwBBWHmJUQ"
      },
      "outputs": [],
      "source": [
        "df"
      ]
    },
    {
      "cell_type": "code",
      "execution_count": null,
      "metadata": {
        "id": "PVgIXXSdmNj6"
      },
      "outputs": [],
      "source": [
        "X = df.drop(df.columns[1], axis=1)\n",
        "X = X.drop(df.columns[2], axis=1)\n",
        "y = df[df.columns[2]]\n",
        "\n",
        "from sklearn.decomposition import PCA\n",
        "\n"
      ]
    },
    {
      "cell_type": "code",
      "execution_count": null,
      "metadata": {
        "id": "D6sErokOtqB_"
      },
      "outputs": [],
      "source": []
    },
    {
      "cell_type": "code",
      "execution_count": null,
      "metadata": {
        "id": "-f_j-LL9oVK2"
      },
      "outputs": [],
      "source": [
        "from sklearn.model_selection import train_test_split\n",
        "X_train, X_test, y_train, y_test = train_test_split(X, y, test_size=0.2, random_state=42)"
      ]
    },
    {
      "cell_type": "code",
      "execution_count": null,
      "metadata": {
        "colab": {
          "base_uri": "https://localhost:8080/",
          "height": 75
        },
        "id": "FKdvPU7kosnp",
        "outputId": "61f119c5-b301-4886-a7c4-5415f9b16af5"
      },
      "outputs": [
        {
          "data": {
            "text/html": [
              "<style>#sk-container-id-1 {color: black;background-color: white;}#sk-container-id-1 pre{padding: 0;}#sk-container-id-1 div.sk-toggleable {background-color: white;}#sk-container-id-1 label.sk-toggleable__label {cursor: pointer;display: block;width: 100%;margin-bottom: 0;padding: 0.3em;box-sizing: border-box;text-align: center;}#sk-container-id-1 label.sk-toggleable__label-arrow:before {content: \"▸\";float: left;margin-right: 0.25em;color: #696969;}#sk-container-id-1 label.sk-toggleable__label-arrow:hover:before {color: black;}#sk-container-id-1 div.sk-estimator:hover label.sk-toggleable__label-arrow:before {color: black;}#sk-container-id-1 div.sk-toggleable__content {max-height: 0;max-width: 0;overflow: hidden;text-align: left;background-color: #f0f8ff;}#sk-container-id-1 div.sk-toggleable__content pre {margin: 0.2em;color: black;border-radius: 0.25em;background-color: #f0f8ff;}#sk-container-id-1 input.sk-toggleable__control:checked~div.sk-toggleable__content {max-height: 200px;max-width: 100%;overflow: auto;}#sk-container-id-1 input.sk-toggleable__control:checked~label.sk-toggleable__label-arrow:before {content: \"▾\";}#sk-container-id-1 div.sk-estimator input.sk-toggleable__control:checked~label.sk-toggleable__label {background-color: #d4ebff;}#sk-container-id-1 div.sk-label input.sk-toggleable__control:checked~label.sk-toggleable__label {background-color: #d4ebff;}#sk-container-id-1 input.sk-hidden--visually {border: 0;clip: rect(1px 1px 1px 1px);clip: rect(1px, 1px, 1px, 1px);height: 1px;margin: -1px;overflow: hidden;padding: 0;position: absolute;width: 1px;}#sk-container-id-1 div.sk-estimator {font-family: monospace;background-color: #f0f8ff;border: 1px dotted black;border-radius: 0.25em;box-sizing: border-box;margin-bottom: 0.5em;}#sk-container-id-1 div.sk-estimator:hover {background-color: #d4ebff;}#sk-container-id-1 div.sk-parallel-item::after {content: \"\";width: 100%;border-bottom: 1px solid gray;flex-grow: 1;}#sk-container-id-1 div.sk-label:hover label.sk-toggleable__label {background-color: #d4ebff;}#sk-container-id-1 div.sk-serial::before {content: \"\";position: absolute;border-left: 1px solid gray;box-sizing: border-box;top: 0;bottom: 0;left: 50%;z-index: 0;}#sk-container-id-1 div.sk-serial {display: flex;flex-direction: column;align-items: center;background-color: white;padding-right: 0.2em;padding-left: 0.2em;position: relative;}#sk-container-id-1 div.sk-item {position: relative;z-index: 1;}#sk-container-id-1 div.sk-parallel {display: flex;align-items: stretch;justify-content: center;background-color: white;position: relative;}#sk-container-id-1 div.sk-item::before, #sk-container-id-1 div.sk-parallel-item::before {content: \"\";position: absolute;border-left: 1px solid gray;box-sizing: border-box;top: 0;bottom: 0;left: 50%;z-index: -1;}#sk-container-id-1 div.sk-parallel-item {display: flex;flex-direction: column;z-index: 1;position: relative;background-color: white;}#sk-container-id-1 div.sk-parallel-item:first-child::after {align-self: flex-end;width: 50%;}#sk-container-id-1 div.sk-parallel-item:last-child::after {align-self: flex-start;width: 50%;}#sk-container-id-1 div.sk-parallel-item:only-child::after {width: 0;}#sk-container-id-1 div.sk-dashed-wrapped {border: 1px dashed gray;margin: 0 0.4em 0.5em 0.4em;box-sizing: border-box;padding-bottom: 0.4em;background-color: white;}#sk-container-id-1 div.sk-label label {font-family: monospace;font-weight: bold;display: inline-block;line-height: 1.2em;}#sk-container-id-1 div.sk-label-container {text-align: center;}#sk-container-id-1 div.sk-container {/* jupyter's `normalize.less` sets `[hidden] { display: none; }` but bootstrap.min.css set `[hidden] { display: none !important; }` so we also need the `!important` here to be able to override the default hidden behavior on the sphinx rendered scikit-learn.org. See: https://github.com/scikit-learn/scikit-learn/issues/21755 */display: inline-block !important;position: relative;}#sk-container-id-1 div.sk-text-repr-fallback {display: none;}</style><div id=\"sk-container-id-1\" class=\"sk-top-container\"><div class=\"sk-text-repr-fallback\"><pre>DecisionTreeClassifier()</pre><b>In a Jupyter environment, please rerun this cell to show the HTML representation or trust the notebook. <br />On GitHub, the HTML representation is unable to render, please try loading this page with nbviewer.org.</b></div><div class=\"sk-container\" hidden><div class=\"sk-item\"><div class=\"sk-estimator sk-toggleable\"><input class=\"sk-toggleable__control sk-hidden--visually\" id=\"sk-estimator-id-1\" type=\"checkbox\" checked><label for=\"sk-estimator-id-1\" class=\"sk-toggleable__label sk-toggleable__label-arrow\">DecisionTreeClassifier</label><div class=\"sk-toggleable__content\"><pre>DecisionTreeClassifier()</pre></div></div></div></div></div>"
            ],
            "text/plain": [
              "DecisionTreeClassifier()"
            ]
          },
          "execution_count": 6,
          "metadata": {},
          "output_type": "execute_result"
        }
      ],
      "source": [
        "from sklearn.tree import DecisionTreeClassifier\n",
        "\n",
        "model = DecisionTreeClassifier()\n",
        "model.fit(X_train, y_train)"
      ]
    },
    {
      "cell_type": "code",
      "execution_count": null,
      "metadata": {
        "id": "LYXIAvs4ox1J"
      },
      "outputs": [],
      "source": [
        "# import pandas as pd\n",
        "# from sklearn.preprocessing import LabelEncoder\n",
        "# from sklearn.model_selection import train_test_split\n",
        "# from sklearn.tree import DecisionTreeClassifier\n",
        "from sklearn.metrics import accuracy_score, classification_report, confusion_matrix"
      ]
    },
    {
      "cell_type": "code",
      "execution_count": null,
      "metadata": {
        "colab": {
          "base_uri": "https://localhost:8080/"
        },
        "id": "2YlTEPoLpXiq",
        "outputId": "47515969-4df7-43d8-ef85-9bb65dc6e96f"
      },
      "outputs": [
        {
          "name": "stdout",
          "output_type": "stream",
          "text": [
            "Training Accuracy:  1.0\n",
            "Training Classification Report:\n",
            "               precision    recall  f1-score   support\n",
            "\n",
            "           0       1.00      1.00      1.00       754\n",
            "           1       1.00      1.00      1.00        37\n",
            "           2       1.00      1.00      1.00        83\n",
            "           3       1.00      1.00      1.00        39\n",
            "           4       1.00      1.00      1.00        18\n",
            "           5       1.00      1.00      1.00        55\n",
            "           6       1.00      1.00      1.00        81\n",
            "           7       1.00      1.00      1.00        46\n",
            "           8       1.00      1.00      1.00         3\n",
            "           9       1.00      1.00      1.00        68\n",
            "          10       1.00      1.00      1.00         4\n",
            "          11       1.00      1.00      1.00        30\n",
            "\n",
            "    accuracy                           1.00      1218\n",
            "   macro avg       1.00      1.00      1.00      1218\n",
            "weighted avg       1.00      1.00      1.00      1218\n",
            "\n",
            "Training Confusion Matrix:\n",
            " [[754   0   0   0   0   0   0   0   0   0   0   0]\n",
            " [  0  37   0   0   0   0   0   0   0   0   0   0]\n",
            " [  0   0  83   0   0   0   0   0   0   0   0   0]\n",
            " [  0   0   0  39   0   0   0   0   0   0   0   0]\n",
            " [  0   0   0   0  18   0   0   0   0   0   0   0]\n",
            " [  0   0   0   0   0  55   0   0   0   0   0   0]\n",
            " [  0   0   0   0   0   0  81   0   0   0   0   0]\n",
            " [  0   0   0   0   0   0   0  46   0   0   0   0]\n",
            " [  0   0   0   0   0   0   0   0   3   0   0   0]\n",
            " [  0   0   0   0   0   0   0   0   0  68   0   0]\n",
            " [  0   0   0   0   0   0   0   0   0   0   4   0]\n",
            " [  0   0   0   0   0   0   0   0   0   0   0  30]]\n"
          ]
        }
      ],
      "source": [
        "# Make Predictions\n",
        "y_pred_train = model.predict(X_train)\n",
        "\n",
        "# Evaluate Training Performance\n",
        "train_accuracy = accuracy_score(y_train, y_pred_train)\n",
        "train_report = classification_report(y_train, y_pred_train)\n",
        "train_confusion = confusion_matrix(y_train, y_pred_train)\n",
        "\n",
        "print(\"Training Accuracy: \", train_accuracy)\n",
        "print(\"Training Classification Report:\\n\", train_report)\n",
        "print(\"Training Confusion Matrix:\\n\", train_confusion)\n"
      ]
    },
    {
      "cell_type": "code",
      "execution_count": null,
      "metadata": {
        "colab": {
          "base_uri": "https://localhost:8080/"
        },
        "id": "5YUhjUd_pcDy",
        "outputId": "2d4c0a40-c744-47c8-d690-815fbc7390b9"
      },
      "outputs": [
        {
          "name": "stdout",
          "output_type": "stream",
          "text": [
            "Testing Accuracy:  0.8557377049180328\n",
            "Testing Classification Report:\n",
            "               precision    recall  f1-score   support\n",
            "\n",
            "           0       1.00      1.00      1.00       188\n",
            "           1       0.80      0.62      0.70        13\n",
            "           2       0.74      0.61      0.67        23\n",
            "           3       0.38      0.71      0.50         7\n",
            "           4       0.40      0.29      0.33         7\n",
            "           5       0.80      0.89      0.84         9\n",
            "           6       0.45      0.56      0.50        16\n",
            "           7       0.64      0.54      0.58        13\n",
            "           8       0.00      0.00      0.00         1\n",
            "           9       0.80      0.73      0.76        22\n",
            "          10       0.50      0.50      0.50         2\n",
            "          11       0.43      0.75      0.55         4\n",
            "\n",
            "    accuracy                           0.86       305\n",
            "   macro avg       0.58      0.60      0.58       305\n",
            "weighted avg       0.87      0.86      0.86       305\n",
            "\n",
            "Testing Confusion Matrix:\n",
            " [[188   0   0   0   0   0   0   0   0   0   0   0]\n",
            " [  0   8   1   1   0   0   2   1   0   0   0   0]\n",
            " [  0   0  14   3   0   0   0   2   0   0   1   3]\n",
            " [  0   0   1   5   0   0   0   0   0   0   0   1]\n",
            " [  0   1   0   1   2   0   2   1   0   0   0   0]\n",
            " [  0   0   0   0   0   8   0   0   0   1   0   0]\n",
            " [  0   0   1   1   1   1   9   0   0   3   0   0]\n",
            " [  0   0   1   1   1   0   3   7   0   0   0   0]\n",
            " [  0   0   0   0   1   0   0   0   0   0   0   0]\n",
            " [  0   0   1   1   0   1   3   0   0  16   0   0]\n",
            " [  0   1   0   0   0   0   0   0   0   0   1   0]\n",
            " [  0   0   0   0   0   0   1   0   0   0   0   3]]\n"
          ]
        },
        {
          "name": "stderr",
          "output_type": "stream",
          "text": [
            "/usr/local/lib/python3.10/dist-packages/sklearn/metrics/_classification.py:1344: UndefinedMetricWarning: Precision and F-score are ill-defined and being set to 0.0 in labels with no predicted samples. Use `zero_division` parameter to control this behavior.\n",
            "  _warn_prf(average, modifier, msg_start, len(result))\n",
            "/usr/local/lib/python3.10/dist-packages/sklearn/metrics/_classification.py:1344: UndefinedMetricWarning: Precision and F-score are ill-defined and being set to 0.0 in labels with no predicted samples. Use `zero_division` parameter to control this behavior.\n",
            "  _warn_prf(average, modifier, msg_start, len(result))\n",
            "/usr/local/lib/python3.10/dist-packages/sklearn/metrics/_classification.py:1344: UndefinedMetricWarning: Precision and F-score are ill-defined and being set to 0.0 in labels with no predicted samples. Use `zero_division` parameter to control this behavior.\n",
            "  _warn_prf(average, modifier, msg_start, len(result))\n"
          ]
        }
      ],
      "source": [
        "# Evaluate Testing Performance\n",
        "y_pred_test = model.predict(X_test)\n",
        "test_accuracy = accuracy_score(y_test, y_pred_test)\n",
        "test_report = classification_report(y_test, y_pred_test)\n",
        "test_confusion = confusion_matrix(y_test, y_pred_test)\n",
        "\n",
        "print(\"Testing Accuracy: \", test_accuracy)\n",
        "print(\"Testing Classification Report:\\n\", test_report)\n",
        "print(\"Testing Confusion Matrix:\\n\", test_confusion)"
      ]
    },
    {
      "cell_type": "code",
      "execution_count": null,
      "metadata": {
        "id": "QFIvvWQ4v1dE"
      },
      "outputs": [],
      "source": [
        "import numpy as np\n",
        "import pandas as pd\n",
        "from sklearn.model_selection import train_test_split\n",
        "from sklearn.preprocessing import StandardScaler\n",
        "import tensorflow as tf\n",
        "from tensorflow.keras.models import Sequential\n",
        "from tensorflow.keras.layers import Conv1D, Conv2D, MaxPooling1D, Flatten, Dense\n",
        "from tensorflow.keras.optimizers import Adam"
      ]
    },
    {
      "cell_type": "code",
      "execution_count": null,
      "metadata": {
        "id": "ukSGnmg_FNUw"
      },
      "outputs": [],
      "source": [
        "\n",
        "# Build the CNN model\n",
        "CNN = Sequential()\n",
        "CNN.add(Conv1D(filters=64, kernel_size=2, activation='relu', input_shape=(X_train.shape[1], 1)))\n",
        "CNN.add(MaxPooling1D(pool_size=2))\n",
        "CNN.add(Conv1D(filters=128, kernel_size=2, activation='relu', input_shape=(X_train.shape[1], 1)))\n",
        "CNN.add(MaxPooling1D(pool_size=2))\n",
        "CNN.add(Flatten())\n",
        "CNN.add(Dense(256, activation='relu'))\n",
        "CNN.add(Dense(100, activation='relu'))\n",
        "CNN.add(Dense(12, activation='softmax'))\n",
        "\n",
        "# Compile the model\n",
        "CNN.compile(optimizer='adam', loss='sparse_categorical_crossentropy', metrics=['accuracy'])\n",
        "\n",
        "# Train the model\n",
        "CNN.fit(X_train, y_train, epochs=10, batch_size=4, validation_data=(X_test, y_test))\n",
        "\n",
        "# Evaluate the model\n",
        "train_acc = CNN.evaluate(X_train, y_train, verbose=0)[1]\n",
        "test_acc = CNN.evaluate(X_test, y_test, verbose=0)[1]\n",
        "print(f\"Train Accuracy: {train_acc:.4f}, Test Accuracy: {test_acc:.4f}\")"
      ]
    },
    {
      "cell_type": "code",
      "execution_count": null,
      "metadata": {
        "colab": {
          "background_save": true,
          "base_uri": "https://localhost:8080/"
        },
        "id": "qVzEJh4sO5fF",
        "outputId": "1897a728-555a-4000-ec2e-2f69004de64d"
      },
      "outputs": [
        {
          "name": "stdout",
          "output_type": "stream",
          "text": [
            "Epoch 1/25\n",
            "305/305 [==============================] - 3288s 11s/step - loss: 2.3652 - accuracy: 0.7053 - val_loss: 0.6949 - val_accuracy: 0.8033\n",
            "Epoch 2/25\n",
            "305/305 [==============================] - 3296s 11s/step - loss: 0.5048 - accuracy: 0.8563 - val_loss: 0.6262 - val_accuracy: 0.8164\n",
            "Epoch 3/25\n",
            "305/305 [==============================] - 3278s 11s/step - loss: 0.3550 - accuracy: 0.8933 - val_loss: 0.5659 - val_accuracy: 0.8295\n",
            "Epoch 4/25\n",
            "305/305 [==============================] - 3273s 11s/step - loss: 0.2879 - accuracy: 0.9138 - val_loss: 0.6628 - val_accuracy: 0.8033\n",
            "Epoch 5/25\n",
            "305/305 [==============================] - 3253s 11s/step - loss: 0.5313 - accuracy: 0.9105 - val_loss: 1.0785 - val_accuracy: 0.8164\n",
            "Epoch 6/25\n",
            "305/305 [==============================] - 3272s 11s/step - loss: 0.2451 - accuracy: 0.9294 - val_loss: 0.7022 - val_accuracy: 0.8459\n",
            "Epoch 7/25\n",
            "305/305 [==============================] - 3257s 11s/step - loss: 0.1599 - accuracy: 0.9524 - val_loss: 0.7295 - val_accuracy: 0.8459\n",
            "Epoch 8/25\n",
            "305/305 [==============================] - 3244s 11s/step - loss: 0.1137 - accuracy: 0.9680 - val_loss: 0.8986 - val_accuracy: 0.8361\n",
            "Epoch 9/25\n",
            "305/305 [==============================] - 3308s 11s/step - loss: 0.1208 - accuracy: 0.9622 - val_loss: 0.8433 - val_accuracy: 0.8393\n",
            "Epoch 10/25\n",
            "305/305 [==============================] - 3301s 11s/step - loss: 0.1052 - accuracy: 0.9663 - val_loss: 0.7567 - val_accuracy: 0.8426\n",
            "Epoch 11/25\n",
            "305/305 [==============================] - 3269s 11s/step - loss: 0.1146 - accuracy: 0.9672 - val_loss: 1.0686 - val_accuracy: 0.8459\n",
            "Epoch 12/25\n",
            "305/305 [==============================] - 3287s 11s/step - loss: 0.1080 - accuracy: 0.9721 - val_loss: 0.7006 - val_accuracy: 0.8262\n",
            "Epoch 13/25\n",
            "305/305 [==============================] - 3268s 11s/step - loss: 0.0823 - accuracy: 0.9754 - val_loss: 0.9836 - val_accuracy: 0.8525\n",
            "Epoch 14/25\n",
            "305/305 [==============================] - 3318s 11s/step - loss: 0.1161 - accuracy: 0.9663 - val_loss: 0.7620 - val_accuracy: 0.8262\n",
            "Epoch 15/25\n",
            "305/305 [==============================] - 3178s 10s/step - loss: 0.0672 - accuracy: 0.9787 - val_loss: 1.0107 - val_accuracy: 0.8525\n",
            "Epoch 16/25\n",
            "305/305 [==============================] - 3119s 10s/step - loss: 0.0476 - accuracy: 0.9836 - val_loss: 1.3363 - val_accuracy: 0.8295\n",
            "Epoch 17/25\n",
            "305/305 [==============================] - 3336s 11s/step - loss: 0.0623 - accuracy: 0.9811 - val_loss: 1.0391 - val_accuracy: 0.8492\n",
            "Epoch 18/25\n",
            "305/305 [==============================] - 3287s 11s/step - loss: 0.2381 - accuracy: 0.9516 - val_loss: 1.0269 - val_accuracy: 0.8328\n",
            "Epoch 19/25\n",
            "305/305 [==============================] - 3291s 11s/step - loss: 0.0916 - accuracy: 0.9745 - val_loss: 1.0043 - val_accuracy: 0.8197\n",
            "Epoch 20/25\n",
            "305/305 [==============================] - 3328s 11s/step - loss: 0.0858 - accuracy: 0.9762 - val_loss: 1.0463 - val_accuracy: 0.8459\n",
            "Epoch 21/25\n",
            "305/305 [==============================] - 3293s 11s/step - loss: 0.0737 - accuracy: 0.9877 - val_loss: 0.8879 - val_accuracy: 0.8459\n",
            "Epoch 22/25\n",
            "305/305 [==============================] - 3211s 11s/step - loss: 0.0410 - accuracy: 0.9860 - val_loss: 1.1792 - val_accuracy: 0.8557\n",
            "Epoch 23/25\n",
            "305/305 [==============================] - 3316s 11s/step - loss: 0.0405 - accuracy: 0.9852 - val_loss: 1.0990 - val_accuracy: 0.8492\n",
            "Epoch 24/25\n",
            "305/305 [==============================] - 3233s 11s/step - loss: 0.0370 - accuracy: 0.9877 - val_loss: 0.9866 - val_accuracy: 0.8295\n",
            "Epoch 25/25\n",
            "305/305 [==============================] - 3374s 11s/step - loss: 0.0481 - accuracy: 0.9836 - val_loss: 1.0001 - val_accuracy: 0.8393\n",
            "Train Accuracy: 0.9877, Test Accuracy: 0.8393\n"
          ]
        }
      ],
      "source": [
        "\n",
        "# Build the CNN model\n",
        "CNN = Sequential()\n",
        "CNN.add(Conv1D(filters=64, kernel_size=2, activation='relu', input_shape=(X_train.shape[1], 1)))\n",
        "CNN.add(MaxPooling1D(pool_size=2))\n",
        "CNN.add(Conv1D(filters=128, kernel_size=2, activation='relu', input_shape=(X_train.shape[1], 1)))\n",
        "CNN.add(MaxPooling1D(pool_size=2))\n",
        "CNN.add(Flatten())\n",
        "CNN.add(Dense(256, activation='relu'))\n",
        "CNN.add(Dense(100, activation='relu'))\n",
        "CNN.add(Dense(12, activation='softmax'))\n",
        "optimizer = Adam(learning_rate=0.0025)\n",
        "# Compile the model\n",
        "CNN.compile(optimizer=optimizer, loss='sparse_categorical_crossentropy', metrics=['accuracy'])\n",
        "\n",
        "# Train the model\n",
        "history = CNN.fit(X_train, y_train, epochs=25, batch_size=4, validation_data=(X_test, y_test))\n",
        "\n",
        "# Evaluate the model\n",
        "train_acc = CNN.evaluate(X_train, y_train, verbose=0)[1]\n",
        "test_acc = CNN.evaluate(X_test, y_test, verbose=0)[1]\n",
        "print(f\"Train Accuracy: {train_acc:.4f}, Test Accuracy: {test_acc:.4f}\")"
      ]
    },
    {
      "cell_type": "code",
      "execution_count": null,
      "metadata": {
        "colab": {
          "base_uri": "https://localhost:8080/",
          "height": 604
        },
        "id": "Qqv_0jAC8qQn",
        "outputId": "a404d168-f664-4159-eaf3-e3f989de546f"
      },
      "outputs": [
        {
          "data": {
            "image/png": "[encoded data removed]",
            "text/plain": [
              "<Figure size 1200x400 with 2 Axes>"
            ]
          },
          "metadata": {},
          "output_type": "display_data"
        },
        {
          "ename": "NameError",
          "evalue": "name 'X_test_cnn' is not defined",
          "output_type": "error",
          "traceback": [
            "\u001b[0;31m---------------------------------------------------------------------------\u001b[0m",
            "\u001b[0;31mNameError\u001b[0m                                 Traceback (most recent call last)",
            "\u001b[0;32m<ipython-input-14-777af24de810>\u001b[0m in \u001b[0;36m<cell line: 23>\u001b[0;34m()\u001b[0m\n\u001b[1;32m     21\u001b[0m \u001b[0;34m\u001b[0m\u001b[0m\n\u001b[1;32m     22\u001b[0m \u001b[0;31m# Predict the values from the test set\u001b[0m\u001b[0;34m\u001b[0m\u001b[0;34m\u001b[0m\u001b[0m\n\u001b[0;32m---> 23\u001b[0;31m \u001b[0my_pred\u001b[0m \u001b[0;34m=\u001b[0m \u001b[0mnp\u001b[0m\u001b[0;34m.\u001b[0m\u001b[0margmax\u001b[0m\u001b[0;34m(\u001b[0m\u001b[0mCNN\u001b[0m\u001b[0;34m.\u001b[0m\u001b[0mpredict\u001b[0m\u001b[0;34m(\u001b[0m\u001b[0mX_test_cnn\u001b[0m\u001b[0;34m)\u001b[0m\u001b[0;34m,\u001b[0m \u001b[0maxis\u001b[0m\u001b[0;34m=\u001b[0m\u001b[0;34m-\u001b[0m\u001b[0;36m1\u001b[0m\u001b[0;34m)\u001b[0m\u001b[0;34m\u001b[0m\u001b[0;34m\u001b[0m\u001b[0m\n\u001b[0m\u001b[1;32m     24\u001b[0m \u001b[0;34m\u001b[0m\u001b[0m\n\u001b[1;32m     25\u001b[0m \u001b[0;31m# Compute the confusion matrix\u001b[0m\u001b[0;34m\u001b[0m\u001b[0;34m\u001b[0m\u001b[0m\n",
            "\u001b[0;31mNameError\u001b[0m: name 'X_test_cnn' is not defined"
          ]
        }
      ],
      "source": [
        "# Plot training & validation accuracy values\n",
        "plt.figure(figsize=(12, 4))\n",
        "plt.subplot(1, 2, 1)\n",
        "plt.plot(history.history['accuracy'])\n",
        "plt.plot(history.history['val_accuracy'])\n",
        "plt.title('Model accuracy')\n",
        "plt.ylabel('Accuracy')\n",
        "plt.xlabel('Epoch')\n",
        "plt.legend(['Train', 'Validation'], loc='upper left')\n",
        "\n",
        "# Plot training & validation loss values\n",
        "plt.subplot(1, 2, 2)\n",
        "plt.plot(history.history['loss'])\n",
        "plt.plot(history.history['val_loss'])\n",
        "plt.title('Model loss')\n",
        "plt.ylabel('Loss')\n",
        "plt.xlabel('Epoch')\n",
        "plt.legend(['Train', 'Validation'], loc='upper left')\n",
        "\n",
        "plt.show()\n",
        "\n",
        "# Predict the values from the test set\n",
        "y_pred = np.argmax(CNN.predict(X_test_cnn), axis=-1)\n",
        "\n",
        "# Compute the confusion matrix\n",
        "cm = confusion_matrix(y_test, y_pred)\n",
        "\n",
        "# Plot the confusion matrix\n",
        "disp = ConfusionMatrixDisplay(confusion_matrix=cm, display_labels=le.classes_)\n",
        "disp.plot(cmap=plt.cm.Blues)\n",
        "plt.title('Confusion Matrix')\n",
        "plt.show()"
      ]
    },
    {
      "cell_type": "code",
      "execution_count": null,
      "metadata": {
        "colab": {
          "background_save": true
        },
        "id": "7DPAmQThb84i"
      },
      "outputs": [],
      "source": [
        "# serialize model to JSON\n",
        "model_json = CNN.to_json()\n",
        "with open(\"CNN30Kv100Emodel.json\", \"w\") as json_file:\n",
        "    json_file.write(model_json)\n",
        "# serialize weights to HDF5\n",
        "model.save_weights(\"CNN30Kv100Emodel.h5\")\n",
        "print(\"Saved model to disk\")\n",
        "\n",
        "# later...\n",
        "\n",
        "# load json and create model\n",
        "json_file = open('CNN30Kv100Emodel.json', 'r')\n",
        "loaded_model_json = json_file.read()\n",
        "json_file.close()\n",
        "loaded_model = model_from_json(loaded_model_json)\n",
        "# load weights into new model\n",
        "loaded_model.load_weights(\"CNN30Kv100Emodel.h5\")\n",
        "print(\"Loaded model from disk\")\n",
        "\n",
        "# evaluate loaded model on test data\n",
        "loaded_model.compile(loss='binary_crossentropy', optimizer='rmsprop', metrics=['accuracy'])\n",
        "score = loaded_model.evaluate(X, Y, verbose=0)\n",
        "print(\"%s: %.2f%%\" % (loaded_model.metrics_names[1], score[1]*100))"
      ]
    },
    {
      "cell_type": "code",
      "execution_count": null,
      "metadata": {
        "colab": {
          "background_save": true
        },
        "id": "sxouyktxvS8R"
      },
      "outputs": [],
      "source": [
        "from sklearn.metrics import accuracy_score, precision_score, recall_score, f1_score, confusion_matrix\n",
        "import matplotlib.pyplot as plt\n",
        "import seaborn as sns\n",
        "# Plot training & validation accuracy values\n",
        "plt.figure(figsize=(12, 4))\n",
        "plt.subplot(1, 2, 1)\n",
        "plt.plot(history.history['accuracy'])\n",
        "plt.plot(history.history['val_accuracy'])\n",
        "plt.title('Model accuracy')\n",
        "plt.ylabel('Accuracy')\n",
        "plt.xlabel('Epoch')\n",
        "plt.legend(['Train', 'Validation'], loc='upper left')\n",
        "\n",
        "# Plot training & validation loss values\n",
        "plt.subplot(1, 2, 2)\n",
        "plt.plot(history.history['loss'])\n",
        "plt.plot(history.history['val_loss'])\n",
        "plt.title('Model loss')\n",
        "plt.ylabel('Loss')\n",
        "plt.xlabel('Epoch')\n",
        "plt.legend(['Train', 'Validation'], loc='upper left')\n",
        "\n",
        "plt.show()\n",
        "\n",
        "# Predict the values from the test set\n",
        "y_pred = np.argmax(CNN.predict(X_test_cnn), axis=-1)\n",
        "\n",
        "# Compute the confusion matrix\n",
        "cm = confusion_matrix(y_test, y_pred)\n",
        "\n",
        "# Plot the confusion matrix\n",
        "disp = ConfusionMatrixDisplay(confusion_matrix=cm, display_labels=le.classes_)\n",
        "disp.plot(cmap=plt.cm.Blues)\n",
        "plt.title('Confusion Matrix')\n",
        "plt.show()\n",
        "# Evaluate the model\n",
        "y_pred = model.predict(X_test)\n",
        "y_pred = y_pred.reshape(-1, 12)\n",
        "y_pred_labels = np.argmax(y_pred, axis=1)\n",
        "y_test_labels = np.argmax(y_test, axis=1)\n",
        "\n",
        "accuracy = accuracy_score(y_test_labels, y_pred_labels)\n",
        "precision = precision_score(y_test_labels, y_pred_labels, average='weighted')\n",
        "recall = recall_score(y_test_labels, y_pred_labels, average='weighted')\n",
        "f1 = f1_score(y_test_labels, y_pred_labels, average='weighted')\n",
        "\n",
        "print(f'Accuracy: {accuracy:.4f}')\n",
        "print(f'Precision: {precision:.4f}')\n",
        "print(f'Recall: {recall:.4f}')\n",
        "print(f'F1 Score: {f1:.4f}')\n",
        "\n",
        "# Plot confusion matrix\n",
        "conf_matrix = confusion_matrix(y_test_labels, y_pred_labels)\n",
        "plt.figure(figsize=(8, 6))\n",
        "sns.heatmap(conf_matrix, annot=True, fmt='d', cmap='Blues')\n",
        "plt.title('Confusion Matrix')\n",
        "plt.xlabel('Predicted Labels')\n",
        "plt.ylabel('True Labels')\n",
        "plt.show()\n",
        "\n",
        "# Plot progression of accuracy and loss\n",
        "plt.figure(figsize=(12, 5))\n",
        "\n",
        "# Plot accuracy\n",
        "plt.subplot(1, 2, 1)\n",
        "plt.plot(history.history['accuracy'], label='Train Accuracy')\n",
        "plt.plot(history.history['val_accuracy'], label='Validation Accuracy')\n",
        "plt.title('Accuracy Progression')\n",
        "plt.xlabel('Epochs')\n",
        "plt.ylabel('Accuracy')\n",
        "plt.legend()\n",
        "\n",
        "# Plot loss\n",
        "plt.subplot(1, 2, 2)\n",
        "plt.plot(history.history['loss'], label='Train Loss')\n",
        "plt.plot(history.history['val_loss'], label='Validation Loss')\n",
        "plt.title('Loss Progression')\n",
        "plt.xlabel('Epochs')\n",
        "plt.ylabel('Loss')\n",
        "plt.legend()\n",
        "\n",
        "plt.tight_layout()\n",
        "plt.show()\n"
      ]
    },
    {
      "cell_type": "code",
      "execution_count": null,
      "metadata": {
        "id": "mLsqwWhbpfNT"
      },
      "outputs": [],
      "source": [
        "import pandas as pd\n",
        "import numpy as np\n",
        "from sklearn.model_selection import train_test_split\n",
        "from sklearn.preprocessing import StandardScaler\n",
        "import tensorflow as tf\n",
        "from tensorflow.keras import layers, models\n",
        "from tensorflow.keras.callbacks import EarlyStopping\n",
        "\n",
        "\n",
        "\n",
        "# Normalize the features\n",
        "scaler = StandardScaler()\n",
        "X_scaled = scaler.fit_transform(X)\n",
        "\n",
        "# Reshape the data for LSTM: LSTMs expect 3D input: (samples, timesteps, features)\n",
        "# Here, we will treat each sample as a sequence with one timestep\n",
        "X_scaled = X_scaled.reshape((X_scaled.shape[0], 1, X_scaled.shape[1]))\n",
        "\n",
        "# Split the data into training and test sets\n",
        "X_train, X_test, y_train, y_test = train_test_split(X_scaled, y, test_size=0.2, random_state=42)\n",
        "\n",
        "# Convert to numpy arrays for TensorFlow\n",
        "X_train = np.array(X_train)\n",
        "X_test = np.array(X_test)\n",
        "y_train = np.array(y_train)\n",
        "y_test = np.array(y_test)\n",
        "\n",
        "# Build the LSTM model\n",
        "model = models.Sequential()\n",
        "model.add(layers.LSTM(64, activation='relu', input_shape=(X_train.shape[1], X_train.shape[2])))\n",
        "model.add(layers.Dense(32, activation='relu'))\n",
        "model.add(layers.Dense(3, activation='softmax'))  # Binary classification, sigmoid activation\n",
        "\n",
        "# Compile the model\n",
        "model.compile(optimizer='adam',\n",
        "              loss='binary_crossentropy',\n",
        "              metrics=['accuracy'])\n",
        "\n",
        "# Add early stopping to prevent overfitting\n",
        "early_stopping = EarlyStopping(monitor='val_loss', patience=10, restore_best_weights=True)\n",
        "\n",
        "# Train the model\n",
        "history = model.fit(X_train, y_train, epochs=100, validation_data=(X_test, y_test), callbacks=[early_stopping])\n",
        "\n",
        "# Evaluate the model\n",
        "test_loss, test_acc = model.evaluate(X_test, y_test, verbose=2)\n",
        "print(f'\\nTest accuracy: {test_acc}')\n",
        "\n",
        "# To visualize the model's architecture\n",
        "model.summary()\n"
      ]
    },
    {
      "cell_type": "markdown",
      "metadata": {
        "id": "Rhc9z2Doq9uR"
      },
      "source": [
        "## **LLM**"
      ]
    },
    {
      "cell_type": "code",
      "execution_count": null,
      "metadata": {
        "colab": {
          "base_uri": "https://localhost:8080/"
        },
        "id": "ofv2Rg-cuMBR",
        "outputId": "7da24257-cd70-46e9-db8f-51a52b5fcda9"
      },
      "outputs": [
        {
          "name": "stdout",
          "output_type": "stream",
          "text": [
            "Requirement already satisfied: transformers[torch] in /usr/local/lib/python3.10/dist-packages (4.41.2)\n",
            "Requirement already satisfied: filelock in /usr/local/lib/python3.10/dist-packages (from transformers[torch]) (3.15.4)\n",
            "Requirement already satisfied: huggingface-hub<1.0,>=0.23.0 in /usr/local/lib/python3.10/dist-packages (from transformers[torch]) (0.23.4)\n",
            "Requirement already satisfied: numpy>=1.17 in /usr/local/lib/python3.10/dist-packages (from transformers[torch]) (1.25.2)\n",
            "Requirement already satisfied: packaging>=20.0 in /usr/local/lib/python3.10/dist-packages (from transformers[torch]) (24.1)\n",
            "Requirement already satisfied: pyyaml>=5.1 in /usr/local/lib/python3.10/dist-packages (from transformers[torch]) (6.0.1)\n",
            "Requirement already satisfied: regex!=2019.12.17 in /usr/local/lib/python3.10/dist-packages (from transformers[torch]) (2024.5.15)\n",
            "Requirement already satisfied: requests in /usr/local/lib/python3.10/dist-packages (from transformers[torch]) (2.31.0)\n",
            "Requirement already satisfied: tokenizers<0.20,>=0.19 in /usr/local/lib/python3.10/dist-packages (from transformers[torch]) (0.19.1)\n",
            "Requirement already satisfied: safetensors>=0.4.1 in /usr/local/lib/python3.10/dist-packages (from transformers[torch]) (0.4.3)\n",
            "Requirement already satisfied: tqdm>=4.27 in /usr/local/lib/python3.10/dist-packages (from transformers[torch]) (4.66.4)\n",
            "Requirement already satisfied: torch in /usr/local/lib/python3.10/dist-packages (from transformers[torch]) (2.3.0+cu121)\n",
            "Requirement already satisfied: accelerate>=0.21.0 in /usr/local/lib/python3.10/dist-packages (from transformers[torch]) (0.31.0)\n",
            "Requirement already satisfied: psutil in /usr/local/lib/python3.10/dist-packages (from accelerate>=0.21.0->transformers[torch]) (5.9.5)\n",
            "Requirement already satisfied: fsspec>=2023.5.0 in /usr/local/lib/python3.10/dist-packages (from huggingface-hub<1.0,>=0.23.0->transformers[torch]) (2023.6.0)\n",
            "Requirement already satisfied: typing-extensions>=3.7.4.3 in /usr/local/lib/python3.10/dist-packages (from huggingface-hub<1.0,>=0.23.0->transformers[torch]) (4.12.2)\n",
            "Requirement already satisfied: sympy in /usr/local/lib/python3.10/dist-packages (from torch->transformers[torch]) (1.12.1)\n",
            "Requirement already satisfied: networkx in /usr/local/lib/python3.10/dist-packages (from torch->transformers[torch]) (3.3)\n",
            "Requirement already satisfied: jinja2 in /usr/local/lib/python3.10/dist-packages (from torch->transformers[torch]) (3.1.4)\n",
            "Requirement already satisfied: nvidia-cuda-nvrtc-cu12==12.1.105 in /usr/local/lib/python3.10/dist-packages (from torch->transformers[torch]) (12.1.105)\n",
            "Requirement already satisfied: nvidia-cuda-runtime-cu12==12.1.105 in /usr/local/lib/python3.10/dist-packages (from torch->transformers[torch]) (12.1.105)\n",
            "Requirement already satisfied: nvidia-cuda-cupti-cu12==12.1.105 in /usr/local/lib/python3.10/dist-packages (from torch->transformers[torch]) (12.1.105)\n",
            "Requirement already satisfied: nvidia-cudnn-cu12==8.9.2.26 in /usr/local/lib/python3.10/dist-packages (from torch->transformers[torch]) (8.9.2.26)\n",
            "Requirement already satisfied: nvidia-cublas-cu12==12.1.3.1 in /usr/local/lib/python3.10/dist-packages (from torch->transformers[torch]) (12.1.3.1)\n",
            "Requirement already satisfied: nvidia-cufft-cu12==11.0.2.54 in /usr/local/lib/python3.10/dist-packages (from torch->transformers[torch]) (11.0.2.54)\n",
            "Requirement already satisfied: nvidia-curand-cu12==10.3.2.106 in /usr/local/lib/python3.10/dist-packages (from torch->transformers[torch]) (10.3.2.106)\n",
            "Requirement already satisfied: nvidia-cusolver-cu12==11.4.5.107 in /usr/local/lib/python3.10/dist-packages (from torch->transformers[torch]) (11.4.5.107)\n",
            "Requirement already satisfied: nvidia-cusparse-cu12==12.1.0.106 in /usr/local/lib/python3.10/dist-packages (from torch->transformers[torch]) (12.1.0.106)\n",
            "Requirement already satisfied: nvidia-nccl-cu12==2.20.5 in /usr/local/lib/python3.10/dist-packages (from torch->transformers[torch]) (2.20.5)\n",
            "Requirement already satisfied: nvidia-nvtx-cu12==12.1.105 in /usr/local/lib/python3.10/dist-packages (from torch->transformers[torch]) (12.1.105)\n",
            "Requirement already satisfied: triton==2.3.0 in /usr/local/lib/python3.10/dist-packages (from torch->transformers[torch]) (2.3.0)\n",
            "Requirement already satisfied: nvidia-nvjitlink-cu12 in /usr/local/lib/python3.10/dist-packages (from nvidia-cusolver-cu12==11.4.5.107->torch->transformers[torch]) (12.5.82)\n",
            "Requirement already satisfied: charset-normalizer<4,>=2 in /usr/local/lib/python3.10/dist-packages (from requests->transformers[torch]) (3.3.2)\n",
            "Requirement already satisfied: idna<4,>=2.5 in /usr/local/lib/python3.10/dist-packages (from requests->transformers[torch]) (3.7)\n",
            "Requirement already satisfied: urllib3<3,>=1.21.1 in /usr/local/lib/python3.10/dist-packages (from requests->transformers[torch]) (2.0.7)\n",
            "Requirement already satisfied: certifi>=2017.4.17 in /usr/local/lib/python3.10/dist-packages (from requests->transformers[torch]) (2024.6.2)\n",
            "Requirement already satisfied: MarkupSafe>=2.0 in /usr/local/lib/python3.10/dist-packages (from jinja2->torch->transformers[torch]) (2.1.5)\n",
            "Requirement already satisfied: mpmath<1.4.0,>=1.1.0 in /usr/local/lib/python3.10/dist-packages (from sympy->torch->transformers[torch]) (1.3.0)\n",
            "Requirement already satisfied: accelerate in /usr/local/lib/python3.10/dist-packages (0.31.0)\n",
            "Requirement already satisfied: numpy>=1.17 in /usr/local/lib/python3.10/dist-packages (from accelerate) (1.25.2)\n",
            "Requirement already satisfied: packaging>=20.0 in /usr/local/lib/python3.10/dist-packages (from accelerate) (24.1)\n",
            "Requirement already satisfied: psutil in /usr/local/lib/python3.10/dist-packages (from accelerate) (5.9.5)\n",
            "Requirement already satisfied: pyyaml in /usr/local/lib/python3.10/dist-packages (from accelerate) (6.0.1)\n",
            "Requirement already satisfied: torch>=1.10.0 in /usr/local/lib/python3.10/dist-packages (from accelerate) (2.3.0+cu121)\n",
            "Requirement already satisfied: huggingface-hub in /usr/local/lib/python3.10/dist-packages (from accelerate) (0.23.4)\n",
            "Requirement already satisfied: safetensors>=0.3.1 in /usr/local/lib/python3.10/dist-packages (from accelerate) (0.4.3)\n",
            "Requirement already satisfied: filelock in /usr/local/lib/python3.10/dist-packages (from torch>=1.10.0->accelerate) (3.15.4)\n",
            "Requirement already satisfied: typing-extensions>=4.8.0 in /usr/local/lib/python3.10/dist-packages (from torch>=1.10.0->accelerate) (4.12.2)\n",
            "Requirement already satisfied: sympy in /usr/local/lib/python3.10/dist-packages (from torch>=1.10.0->accelerate) (1.12.1)\n",
            "Requirement already satisfied: networkx in /usr/local/lib/python3.10/dist-packages (from torch>=1.10.0->accelerate) (3.3)\n",
            "Requirement already satisfied: jinja2 in /usr/local/lib/python3.10/dist-packages (from torch>=1.10.0->accelerate) (3.1.4)\n",
            "Requirement already satisfied: fsspec in /usr/local/lib/python3.10/dist-packages (from torch>=1.10.0->accelerate) (2023.6.0)\n",
            "Requirement already satisfied: nvidia-cuda-nvrtc-cu12==12.1.105 in /usr/local/lib/python3.10/dist-packages (from torch>=1.10.0->accelerate) (12.1.105)\n",
            "Requirement already satisfied: nvidia-cuda-runtime-cu12==12.1.105 in /usr/local/lib/python3.10/dist-packages (from torch>=1.10.0->accelerate) (12.1.105)\n",
            "Requirement already satisfied: nvidia-cuda-cupti-cu12==12.1.105 in /usr/local/lib/python3.10/dist-packages (from torch>=1.10.0->accelerate) (12.1.105)\n",
            "Requirement already satisfied: nvidia-cudnn-cu12==8.9.2.26 in /usr/local/lib/python3.10/dist-packages (from torch>=1.10.0->accelerate) (8.9.2.26)\n",
            "Requirement already satisfied: nvidia-cublas-cu12==12.1.3.1 in /usr/local/lib/python3.10/dist-packages (from torch>=1.10.0->accelerate) (12.1.3.1)\n",
            "Requirement already satisfied: nvidia-cufft-cu12==11.0.2.54 in /usr/local/lib/python3.10/dist-packages (from torch>=1.10.0->accelerate) (11.0.2.54)\n",
            "Requirement already satisfied: nvidia-curand-cu12==10.3.2.106 in /usr/local/lib/python3.10/dist-packages (from torch>=1.10.0->accelerate) (10.3.2.106)\n",
            "Requirement already satisfied: nvidia-cusolver-cu12==11.4.5.107 in /usr/local/lib/python3.10/dist-packages (from torch>=1.10.0->accelerate) (11.4.5.107)\n",
            "Requirement already satisfied: nvidia-cusparse-cu12==12.1.0.106 in /usr/local/lib/python3.10/dist-packages (from torch>=1.10.0->accelerate) (12.1.0.106)\n",
            "Requirement already satisfied: nvidia-nccl-cu12==2.20.5 in /usr/local/lib/python3.10/dist-packages (from torch>=1.10.0->accelerate) (2.20.5)\n",
            "Requirement already satisfied: nvidia-nvtx-cu12==12.1.105 in /usr/local/lib/python3.10/dist-packages (from torch>=1.10.0->accelerate) (12.1.105)\n",
            "Requirement already satisfied: triton==2.3.0 in /usr/local/lib/python3.10/dist-packages (from torch>=1.10.0->accelerate) (2.3.0)\n",
            "Requirement already satisfied: nvidia-nvjitlink-cu12 in /usr/local/lib/python3.10/dist-packages (from nvidia-cusolver-cu12==11.4.5.107->torch>=1.10.0->accelerate) (12.5.82)\n",
            "Requirement already satisfied: requests in /usr/local/lib/python3.10/dist-packages (from huggingface-hub->accelerate) (2.31.0)\n",
            "Requirement already satisfied: tqdm>=4.42.1 in /usr/local/lib/python3.10/dist-packages (from huggingface-hub->accelerate) (4.66.4)\n",
            "Requirement already satisfied: MarkupSafe>=2.0 in /usr/local/lib/python3.10/dist-packages (from jinja2->torch>=1.10.0->accelerate) (2.1.5)\n",
            "Requirement already satisfied: charset-normalizer<4,>=2 in /usr/local/lib/python3.10/dist-packages (from requests->huggingface-hub->accelerate) (3.3.2)\n",
            "Requirement already satisfied: idna<4,>=2.5 in /usr/local/lib/python3.10/dist-packages (from requests->huggingface-hub->accelerate) (3.7)\n",
            "Requirement already satisfied: urllib3<3,>=1.21.1 in /usr/local/lib/python3.10/dist-packages (from requests->huggingface-hub->accelerate) (2.0.7)\n",
            "Requirement already satisfied: certifi>=2017.4.17 in /usr/local/lib/python3.10/dist-packages (from requests->huggingface-hub->accelerate) (2024.6.2)\n",
            "Requirement already satisfied: mpmath<1.4.0,>=1.1.0 in /usr/local/lib/python3.10/dist-packages (from sympy->torch>=1.10.0->accelerate) (1.3.0)\n"
          ]
        }
      ],
      "source": [
        "!pip install transformers[torch]\n",
        "!pip install accelerate"
      ]
    },
    {
      "cell_type": "code",
      "execution_count": null,
      "metadata": {
        "colab": {
          "base_uri": "https://localhost:8080/",
          "height": 1000
        },
        "id": "vYukcoD4smQ5",
        "outputId": "e9519b8f-8199-4d98-a2bd-86e44ecd70dc"
      },
      "outputs": [
        {
          "name": "stdout",
          "output_type": "stream",
          "text": [
            "<class 'pandas.core.frame.DataFrame'>\n",
            "RangeIndex: 62485 entries, 0 to 62484\n",
            "Data columns (total 18 columns):\n",
            " #   Column              Non-Null Count  Dtype \n",
            "---  ------              --------------  ----- \n",
            " 0   FileName            62485 non-null  object\n",
            " 1   md5Hash             62485 non-null  object\n",
            " 2   Machine             62485 non-null  int64 \n",
            " 3   DebugSize           62485 non-null  int64 \n",
            " 4   DebugRVA            62485 non-null  int64 \n",
            " 5   MajorImageVersion   62485 non-null  int64 \n",
            " 6   MajorOSVersion      62485 non-null  int64 \n",
            " 7   ExportRVA           62485 non-null  int64 \n",
            " 8   ExportSize          62485 non-null  int64 \n",
            " 9   IatVRA              62485 non-null  int64 \n",
            " 10  MajorLinkerVersion  62485 non-null  int64 \n",
            " 11  MinorLinkerVersion  62485 non-null  int64 \n",
            " 12  NumberOfSections    62485 non-null  int64 \n",
            " 13  SizeOfStackReserve  62485 non-null  int64 \n",
            " 14  DllCharacteristics  62485 non-null  int64 \n",
            " 15  ResourceSize        62485 non-null  int64 \n",
            " 16  BitcoinAddresses    62485 non-null  int64 \n",
            " 17  Benign              62485 non-null  int64 \n",
            "dtypes: int64(16), object(2)\n",
            "memory usage: 8.6+ MB\n",
            "None\n",
            "            Machine     DebugSize      DebugRVA  MajorImageVersion  \\\n",
            "count  62485.000000  6.248500e+04  6.248500e+04       62485.000000   \n",
            "mean    6756.472657  2.587048e+04  1.541611e+05          58.785997   \n",
            "std    13345.499919  6.461396e+06  1.903142e+06        1114.068244   \n",
            "min        0.000000  0.000000e+00  0.000000e+00           0.000000   \n",
            "25%      332.000000  0.000000e+00  0.000000e+00           0.000000   \n",
            "50%      332.000000  0.000000e+00  0.000000e+00           0.000000   \n",
            "75%      332.000000  2.800000e+01  1.283200e+04           6.000000   \n",
            "max    43620.000000  1.615155e+09  2.852127e+08       63325.000000   \n",
            "\n",
            "       MajorOSVersion     ExportRVA    ExportSize        IatVRA  \\\n",
            "count    62485.000000  6.248500e+04  6.248500e+04  6.248500e+04   \n",
            "mean         5.417524  8.953186e+05  4.094623e+05  1.466311e+05   \n",
            "std          2.543697  3.779527e+07  2.851820e+07  1.124630e+06   \n",
            "min          0.000000  0.000000e+00  0.000000e+00  0.000000e+00   \n",
            "25%          4.000000  0.000000e+00  0.000000e+00  4.096000e+03   \n",
            "50%          5.000000  0.000000e+00  0.000000e+00  8.520000e+03   \n",
            "75%          6.000000  2.875200e+04  1.040000e+02  6.553600e+04   \n",
            "max        260.000000  2.147484e+09  2.415919e+09  6.615450e+07   \n",
            "\n",
            "       MajorLinkerVersion  MinorLinkerVersion  NumberOfSections  \\\n",
            "count        62485.000000        62485.000000      62485.000000   \n",
            "mean             9.782604            6.613171          4.751172   \n",
            "std              9.047157           16.976465          2.138584   \n",
            "min              0.000000            0.000000          1.000000   \n",
            "25%              6.000000            0.000000          3.000000   \n",
            "50%              9.000000            0.000000          5.000000   \n",
            "75%             11.000000           10.000000          6.000000   \n",
            "max            255.000000          255.000000         33.000000   \n",
            "\n",
            "       SizeOfStackReserve  DllCharacteristics  ResourceSize  BitcoinAddresses  \\\n",
            "count        6.248500e+04        62485.000000  6.248500e+04      62485.000000   \n",
            "mean         8.759830e+05        12966.031400  1.844664e+05          0.018004   \n",
            "std          6.288189e+05        15762.725511  1.732625e+07          0.132968   \n",
            "min          0.000000e+00            0.000000  0.000000e+00          0.000000   \n",
            "25%          2.621440e+05            0.000000  1.080000e+03          0.000000   \n",
            "50%          1.048576e+06          320.000000  2.496000e+03          0.000000   \n",
            "75%          1.048576e+06        32768.000000  2.350400e+04          0.000000   \n",
            "max          1.677722e+07        58632.000000  4.294942e+09          1.000000   \n",
            "\n",
            "             Benign  \n",
            "count  62485.000000  \n",
            "mean       0.433992  \n",
            "std        0.495628  \n",
            "min        0.000000  \n",
            "25%        0.000000  \n",
            "50%        0.000000  \n",
            "75%        1.000000  \n",
            "max        1.000000  \n"
          ]
        },
        {
          "name": "stderr",
          "output_type": "stream",
          "text": [
            "<ipython-input-2-4b5288354815>:21: SettingWithCopyWarning: \n",
            "A value is trying to be set on a copy of a slice from a DataFrame.\n",
            "Try using .loc[row_indexer,col_indexer] = value instead\n",
            "\n",
            "See the caveats in the documentation: https://pandas.pydata.org/pandas-docs/stable/user_guide/indexing.html#returning-a-view-versus-a-copy\n",
            "  df['Benign'] = label_encoder.fit_transform(df['Benign'])\n",
            "/usr/local/lib/python3.10/dist-packages/huggingface_hub/utils/_token.py:89: UserWarning: \n",
            "The secret `HF_TOKEN` does not exist in your Colab secrets.\n",
            "To authenticate with the Hugging Face Hub, create a token in your settings tab (https://huggingface.co/settings/tokens), set it as secret in your Google Colab and restart your session.\n",
            "You will be able to reuse this secret in all of your notebooks.\n",
            "Please note that authentication is recommended but still optional to access public models or datasets.\n",
            "  warnings.warn(\n",
            "Some weights of BertForSequenceClassification were not initialized from the model checkpoint at bert-base-uncased and are newly initialized: ['classifier.bias', 'classifier.weight']\n",
            "You should probably TRAIN this model on a down-stream task to be able to use it for predictions and inference.\n"
          ]
        },
        {
          "data": {
            "text/html": [
              "\n",
              "    <div>\n",
              "      \n",
              "      <progress value='18' max='9375' style='width:300px; height:20px; vertical-align: middle;'></progress>\n",
              "      [  18/9375 05:14 < 51:06:38, 0.05 it/s, Epoch 0.01/3]\n",
              "    </div>\n",
              "    <table border=\"1\" class=\"dataframe\">\n",
              "  <thead>\n",
              " <tr style=\"text-align: left;\">\n",
              "      <th>Step</th>\n",
              "      <th>Training Loss</th>\n",
              "    </tr>\n",
              "  </thead>\n",
              "  <tbody>\n",
              "    <tr>\n",
              "      <td>10</td>\n",
              "      <td>0.693300</td>\n",
              "    </tr>\n",
              "  </tbody>\n",
              "</table><p>"
            ],
            "text/plain": [
              "<IPython.core.display.HTML object>"
            ]
          },
          "metadata": {},
          "output_type": "display_data"
        }
      ],
      "source": [
        "import pandas as pd\n",
        "from sklearn.model_selection import train_test_split\n",
        "from sklearn.preprocessing import LabelEncoder\n",
        "from transformers import BertTokenizer, BertForSequenceClassification, Trainer, TrainingArguments\n",
        "import torch\n",
        "from torch.utils.data import Dataset, DataLoader\n",
        "\n",
        "# Step 1: Read the CSV file\n",
        "df = pd.read_csv('data_file.csv')\n",
        "\n",
        "# Step 2: Data Inspection\n",
        "print(df.info())\n",
        "print(df.describe())\n",
        "\n",
        "# Step 3: Feature Selection\n",
        "# Assuming 'FileName' is the text and 'Benign' is the label\n",
        "df = df[['FileName', 'Benign']]\n",
        "\n",
        "# Step 4: Label Encoding\n",
        "label_encoder = LabelEncoder()\n",
        "df['Benign'] = label_encoder.fit_transform(df['Benign'])\n",
        "\n",
        "# Step 5: Text Processing - Tokenization\n",
        "tokenizer = BertTokenizer.from_pretrained('bert-base-uncased')\n",
        "\n",
        "class CustomDataset(Dataset):\n",
        "    def __init__(self, texts, labels, tokenizer, max_len):\n",
        "        self.texts = texts\n",
        "        self.labels = labels\n",
        "        self.tokenizer = tokenizer\n",
        "        self.max_len = max_len\n",
        "\n",
        "    def __len__(self):\n",
        "        return len(self.texts)\n",
        "\n",
        "    def __getitem__(self, idx):\n",
        "        text = self.texts[idx]\n",
        "        label = self.labels[idx]\n",
        "        encoding = self.tokenizer.encode_plus(\n",
        "            text,\n",
        "            add_special_tokens=True,\n",
        "            max_length=self.max_len,\n",
        "            return_token_type_ids=False,\n",
        "            padding='max_length',\n",
        "            return_attention_mask=True,\n",
        "            return_tensors='pt',\n",
        "        )\n",
        "        return {\n",
        "            'text': text,\n",
        "            'input_ids': encoding['input_ids'].flatten(),\n",
        "            'attention_mask': encoding['attention_mask'].flatten(),\n",
        "            'labels': torch.tensor(label, dtype=torch.long)\n",
        "        }\n",
        "\n",
        "# Parameters\n",
        "MAX_LEN = 128\n",
        "BATCH_SIZE = 16\n",
        "\n",
        "# Train-Test Split\n",
        "train_texts, test_texts, train_labels, test_labels = train_test_split(\n",
        "    df['FileName'], df['Benign'], test_size=0.2, random_state=42)\n",
        "\n",
        "# Create Datasets\n",
        "train_dataset = CustomDataset(train_texts.tolist(), train_labels.tolist(), tokenizer, MAX_LEN)\n",
        "test_dataset = CustomDataset(test_texts.tolist(), test_labels.tolist(), tokenizer, MAX_LEN)\n",
        "\n",
        "# Data Loaders\n",
        "train_dataloader = DataLoader(train_dataset, batch_size=BATCH_SIZE, shuffle=True)\n",
        "test_dataloader = DataLoader(test_dataset, batch_size=BATCH_SIZE, shuffle=False)\n",
        "\n",
        "# Step 6: Model Training\n",
        "model = BertForSequenceClassification.from_pretrained('bert-base-uncased', num_labels=2)\n",
        "\n",
        "# Define Training Arguments\n",
        "training_args = TrainingArguments(\n",
        "    output_dir='./results',\n",
        "    num_train_epochs=3,\n",
        "    per_device_train_batch_size=BATCH_SIZE,\n",
        "    per_device_eval_batch_size=BATCH_SIZE,\n",
        "    warmup_steps=500,\n",
        "    weight_decay=0.01,\n",
        "    logging_dir='./logs',\n",
        "    logging_steps=10,\n",
        ")\n",
        "\n",
        "trainer = Trainer(\n",
        "    model=model,\n",
        "    args=training_args,\n",
        "    train_dataset=train_dataset,\n",
        "    eval_dataset=test_dataset,\n",
        ")\n",
        "\n",
        "# Train the model\n",
        "trainer.train()\n",
        "\n",
        "# Step 7: Evaluation\n",
        "results = trainer.evaluate()\n",
        "print(results)\n"
      ]
    },
    {
      "cell_type": "code",
      "execution_count": null,
      "metadata": {
        "id": "0CZ1lXmmuAwC"
      },
      "outputs": [],
      "source": []
    }
  ],
  "metadata": {
    "colab": {
      "provenance": []
    },
    "kernelspec": {
      "display_name": "Python 3",
      "name": "python3"
    },
    "language_info": {
      "name": "python"
    }
  },
  "nbformat": 4,
  "nbformat_minor": 0
}